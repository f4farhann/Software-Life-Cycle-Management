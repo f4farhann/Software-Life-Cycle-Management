{
 "cells": [
  {
   "cell_type": "markdown",
   "metadata": {},
   "source": [
    "# Implementation of Knowledge Based SDDC LCM. "
   ]
  },
  {
   "cell_type": "markdown",
   "metadata": {},
   "source": [
    "#### Proposing a Knowledge Based Life Cycle Management method for the Infrastructure Components and the Applications in the Scaled Hyper Converged Software Defined Data Centers is a project to manage life cycle Management (LCM) software which will look for “Best Window time” or “best time” to perform Life Cycle Management.  So that the Administrator can perform LCM whenever upgrade or patch is available for any entity (Application or Infrastructure component) .  This will help avoid any risk because of ongoing  upgrades or patches "
   ]
  },
  {
   "cell_type": "markdown",
   "metadata": {},
   "source": [
    "### Import Library"
   ]
  },
  {
   "cell_type": "code",
   "execution_count": 1,
   "metadata": {
    "pycharm": {
     "is_executing": true
    }
   },
   "outputs": [],
   "source": [
    "import os\n",
    "import pandas as pd\n",
    "import numpy as np\n",
    "import seaborn as sns\n",
    "import matplotlib.pyplot as plt\n",
    "%matplotlib inline\n",
    "import math\n",
    "import re\n",
    "import time\n",
    "from time import strftime\n",
    "from utils import util\n"
   ]
  },
  {
   "cell_type": "markdown",
   "metadata": {},
   "source": [
    "### configure spark variables "
   ]
  },
  {
   "cell_type": "code",
   "execution_count": 2,
   "metadata": {},
   "outputs": [],
   "source": [
    "__author__ = 'raviranjan'\n",
    "\n",
    "#from pyspark import SparkConf, SparkContext\n",
    "#from pyspark.context import SparkContext\n",
    "#from pyspark.sql.context import SQLContext\n",
    "#from pyspark.sql.session import SparkSession\n",
    "   \n",
    "#sc = SparkContext()\n",
    "#sqlContext = SQLContext(sc)\n",
    "#spark = SparkSession(sc)"
   ]
  },
  {
   "cell_type": "markdown",
   "metadata": {},
   "source": [
    "### Define variables contants"
   ]
  },
  {
   "cell_type": "code",
   "execution_count": 3,
   "metadata": {},
   "outputs": [],
   "source": [
    "LOG_DIR = \"logs\"\n",
    "TIME_STAMP_PATTERN = \"^(2[0-3]|[01]?[0-9]):(0[1-9]{1}|[1-5]{1}[0-9]):(0[1-9]{1}|[1-5]{1}[0-9])$\"\n",
    "HOST_PATTERN = r'(^\\S+\\.[\\S+\\.]+\\S+)\\s'\n",
    "LOGGER_FILE_PATTERN = r'(^\\S+\\.[\\S+\\.]+\\S+)\\s'\n",
    "ERROR_PATTERN = 'ERROR:'\n",
    "INFO_PATTERN = 'INFO:'\n",
    "DEBUG_PATTERN = 'DEBUG:'\n",
    "time_stamp_pattern = r'\\[(\\d{2}/\\w{3}/\\d{4}:\\d{2}:\\d{2}:\\d{2} -\\d{4})]'\n",
    "host_pattern = r'(^\\S+\\.[\\S+\\.]+\\S+)\\s'\n",
    "logger_file_pattern = r'(^\\S+\\.[\\S+\\.]+\\S+)\\s'\n",
    "has_error_pattern = r''\n",
    "excel_file_path = \"data/excel_data_1.xlsx\"\n",
    "\n"
   ]
  },
  {
   "cell_type": "markdown",
   "metadata": {},
   "source": [
    "# Create a util class"
   ]
  },
  {
   "cell_type": "code",
   "execution_count": 20,
   "metadata": {},
   "outputs": [],
   "source": [
    "import re\n",
    "import os\n",
    "import time\n",
    "from time import strftime\n",
    "\n",
    "\n",
    "def export_to_file(dict_with_list_values=None, export_file_path=None, export_folder=None):\n",
    "    \"\"\"\n",
    "    dict_with_list_values = {'Brand': ['Honda Civic','Toyota Corolla','Ford Focus','Audi A4'],\n",
    "        'Price': [32000,35000,37000,45000]\n",
    "        }\n",
    "    :param export_folder:\n",
    "    :param dict_with_list_values:\n",
    "    :param create_dict_from_list:\n",
    "    :param column_name\n",
    "    :return:\n",
    "    \"\"\"\n",
    "    if not export_file_path:\n",
    "        time_now = str(strftime(\"%Y-%m-%d %H-%M-%S\", time.localtime()))\n",
    "        export_file_path = export_folder + \"/\" + time_now + \".xlsx\"\n",
    "    columns = dict_with_list_values.keys()\n",
    "    print('Exporting columns %s to %s' % (columns, export_file_path))\n",
    "    import pandas as pd\n",
    "    df = pd.DataFrame(dict_with_list_values, columns=columns)\n",
    "    df.to_excel(export_file_path, index=False, header=True)\n",
    "    print(export_file_path)\n",
    "    return export_file_path\n",
    "\n",
    "\n",
    "def get_data_to_export(log_files, column_names=['timestamp', 'info', 'error', 'debug', 'warn', 'exception', 'filename', 'line'], add_time_stamp=True):\n",
    "    excel_export_data = {\n",
    "    }\n",
    "    for column_name in column_names:\n",
    "        excel_export_data[column_name] = []\n",
    "    print(\"Define column %s\" % excel_export_data)\n",
    "    for log_file in log_files:\n",
    "        with open(log_file) as f:\n",
    "            for line in f:\n",
    "                one_row_values = {} # store one row value with key as column name and its value\n",
    "                for column_name in column_names:\n",
    "                    column_name = column_name.lower()\n",
    "                    line = line.lower().strip()\n",
    "                    if column_name in line:\n",
    "                        cell_value = 1\n",
    "                    else:\n",
    "                        cell_value = 0\n",
    "                    if column_name == \"line\":\n",
    "                        cell_value = line\n",
    "                    if column_name == \"filename\":\n",
    "                        cell_value = log_file.split('/')[-1]\n",
    "                    if add_time_stamp and column_name == \"timestamp\":\n",
    "                        RE_COMPILE_TIME_STAMP_PATTERN = \"(24:00|2[0-3]:[0-5][0-9]|[0-1][0-9]:[0-5][0-9]:[0-5][0-9])\"\n",
    "                        cell_value = finditer_line(line, regex=RE_COMPILE_TIME_STAMP_PATTERN)\n",
    "\n",
    "                    # Final cell value for that column\n",
    "                    one_row_values[column_name] = cell_value\n",
    "\n",
    "                for column_name in one_row_values:\n",
    "                    # append the list value\n",
    "                    existing_one_column_values = excel_export_data[column_name]\n",
    "                    existing_one_column_values.append(one_row_values[column_name])\n",
    "                    excel_export_data[column_name] = existing_one_column_values\n",
    "    files = []\n",
    "    for log_file in log_files:\n",
    "        log_file = log_file.split('/')[-1]\n",
    "        files.append(log_file)\n",
    "    for column_name in column_names:\n",
    "        print(\"Total %s values for Column:%s in all log files\" % (len(excel_export_data[column_name]), column_name))\n",
    "\n",
    "    return excel_export_data\n",
    "\n",
    "\n",
    "def get_log_files(log_dir):\n",
    "    log_files = []\n",
    "    for root, dir_, files in os.walk(log_dir):\n",
    "        for sub_dir in dir_:\n",
    "            sub_dir_path = os.path.join(root, sub_dir)\n",
    "            # print(\"sub_dir: %s\" % sub_dir_path)\n",
    "            # os.system('ls %s' % sub_dir_path)\n",
    "        for f in files:\n",
    "            f_path = os.path.join(root, f)\n",
    "            if \".log\" in f_path:\n",
    "                log_files.append(f_path)\n",
    "    print(\"%s\" % (log_files))\n",
    "    return log_files\n",
    "\n",
    "\n",
    "def findall_(log_file, regex):\n",
    "    matched_lines = []\n",
    "    with open(log_file) as f:\n",
    "        # lines = f.readlines()\n",
    "        for line in f:\n",
    "            found = re.findall(regex, line)\n",
    "            if found:\n",
    "                matched_lines.append(line)\n",
    "        print(matched_lines)\n",
    "    return matched_lines\n",
    "\n",
    "\n",
    "def search_re(line, pattern=None):\n",
    "    # Python program to illustrate\n",
    "    # Matching regex objects\n",
    "    match = re.match(pattern, line)\n",
    "    if not match:\n",
    "        regex_com = re.compile(pattern)\n",
    "        match = regex_com.search(line)\n",
    "        if match:\n",
    "            value = match.group()\n",
    "            print('found using re.compile: %s' % value)\n",
    "            return value\n",
    "        else:\n",
    "            print('%s not Found using re.compile also:' % pattern)\n",
    "            return ''\n",
    "    else:\n",
    "        value = match.group()\n",
    "        print('Found using re.match: %s' % value)\n",
    "        return value\n",
    "\n",
    "\n",
    "def finditer_(log_file_path, regex, read_line=True):\n",
    "    \"\"\"\n",
    "    regex = '(<property name=\"(.*?)\">(.*?)<\\/property>)'\n",
    "    :param log_file_path:\n",
    "    :param regex:\n",
    "    :param read_line:\n",
    "    :param re_parse:\n",
    "    :return:\n",
    "    \"\"\"\n",
    "    with open(log_file_path, \"r\") as f:\n",
    "        match_list = []\n",
    "        if read_line:\n",
    "            for line in f:\n",
    "                for match in re.finditer(regex, line, re.S):\n",
    "                    match_text = match.group()\n",
    "                    match_list.append(match_text)\n",
    "        else:\n",
    "            data = f.read()\n",
    "            for match in re.finditer(regex, data, re.S):\n",
    "                match_text = match.group()\n",
    "                match_list.append(match_text)\n",
    "    f.close()\n",
    "    print(match_list)\n",
    "    return match_list\n",
    "\n",
    "\n",
    "def finditer_line(line, regex):\n",
    "    \"\"\"\n",
    "    regex = '(<property name=\"(.*?)\">(.*?)<\\/property>)'\n",
    "    :param log_file_path:\n",
    "    :param regex:\n",
    "    :param read_line:\n",
    "    :param re_parse:\n",
    "    :return:\n",
    "    \"\"\"\n",
    "    match_text = ''\n",
    "    for match in re.finditer(regex, line, re.S):\n",
    "        match_text = match.group()\n",
    "    return match_text\n",
    "\n",
    "def count_cell_entries(df, col_name='', output_col_name=''):\n",
    "    \"\"\"\n",
    "    Returns pd.value_counts() as a DataFrame\n",
    "\n",
    "    Parameters\n",
    "    ----------\n",
    "    df : Pandas Dataframe\n",
    "        Dataframe on which to run value_counts(), must have column `col`.\n",
    "    col : str\n",
    "        Name of column in `df` for which to generate counts\n",
    "\n",
    "    Returns\n",
    "    -------\n",
    "    Pandas Dataframe\n",
    "        Returned dataframe will have a single column named \"count\" which contains the count_values()\n",
    "        for each unique value of df[col]. The index name of this dataframe is `col`.\n",
    "\n",
    "    Example\n",
    "    -------\n",
    "    >>> value_counts_df(pd.DataFrame({'a':[1, 1, 2, 2, 2]}), 'a')\n",
    "       count\n",
    "    a\n",
    "    2      3\n",
    "    1      2\n",
    "    \"\"\"\n",
    "    #df = pd.DataFrame(df[col].value_counts())\n",
    "    #df.index.name = col\n",
    "    #df.columns = ['count']\n",
    "    z = df[col_name].value_counts()\n",
    "    z1 = z.to_dict() #converts to dictionary\n",
    "    df[output_col_name] = df[col_name].map(z1)\n",
    "    return df\n",
    "\n",
    "def date2int(df):\n",
    "    if df.timestamp:\n",
    "        t=df['timestamp']\n",
    "        try:\n",
    "            t1=t.timetuple()\n",
    "            return int(time.mktime(t1))\n",
    "        except ValueError:\n",
    "            return None\n"
   ]
  },
  {
   "cell_type": "markdown",
   "metadata": {},
   "source": [
    "### Get log files"
   ]
  },
  {
   "cell_type": "code",
   "execution_count": 6,
   "metadata": {},
   "outputs": [
    {
     "name": "stdout",
     "output_type": "stream",
     "text": [
      "['logs/HDFS/HDFS.log', 'logs/Windows/Windows.log', 'logs/Apache/Apache.log', 'logs/HealthApp/HealthApp.log', 'logs/Thunderbird/Thunderbird.log', 'logs/Spark/Spark.log', 'logs/Mac/Mac.log', 'logs/BGL/BGL.log', 'logs/Andriod/Andriod.log', 'logs/Hadoop/Hadoop.log', 'logs/Proxifier/Proxifier.log', 'logs/HPC/HPC.log', 'logs/Linux/Linux.log', 'logs/Zookeeper/Zookeeper.log', 'logs/OpenStack/OpenStack.log', 'logs/OpenSSH/SSH.log']\n"
     ]
    }
   ],
   "source": [
    "log_files = get_log_files(log_dir=LOG_DIR)"
   ]
  },
  {
   "cell_type": "markdown",
   "metadata": {},
   "source": [
    "### Get Data from logs and export to Excel "
   ]
  },
  {
   "cell_type": "code",
   "execution_count": 7,
   "metadata": {},
   "outputs": [
    {
     "name": "stdout",
     "output_type": "stream",
     "text": [
      "Define column {'timestamp': [], 'info': [], 'error': [], 'debug': [], 'warn': [], 'exception': [], 'filename': [], 'line': []}\n",
      "Total 32000 values for Column:timestamp in all log files\n",
      "Total 32000 values for Column:info in all log files\n",
      "Total 32000 values for Column:error in all log files\n",
      "Total 32000 values for Column:debug in all log files\n",
      "Total 32000 values for Column:warn in all log files\n",
      "Total 32000 values for Column:exception in all log files\n",
      "Total 32000 values for Column:filename in all log files\n",
      "Total 32000 values for Column:line in all log files\n"
     ]
    }
   ],
   "source": [
    "excel_export_data = get_data_to_export(log_files=log_files, column_names=['timestamp', 'info', 'error', 'debug', 'warn', 'exception', 'filename', 'line'])"
   ]
  },
  {
   "cell_type": "code",
   "execution_count": 8,
   "metadata": {},
   "outputs": [],
   "source": [
    "#export_to_file(dict_with_list_values=excel_export_data, export_file_path=excel_file_path)"
   ]
  },
  {
   "cell_type": "markdown",
   "metadata": {},
   "source": [
    "# Analyzing Data"
   ]
  },
  {
   "cell_type": "markdown",
   "metadata": {},
   "source": [
    "## read the file"
   ]
  },
  {
   "cell_type": "code",
   "execution_count": 13,
   "metadata": {},
   "outputs": [
    {
     "name": "stdout",
     "output_type": "stream",
     "text": [
      "data/excel_data_1.xlsx\n"
     ]
    }
   ],
   "source": [
    "import time\n",
    "print(excel_file_path)\n",
    "df = pd.read_excel(excel_file_path)"
   ]
  },
  {
   "cell_type": "code",
   "execution_count": 14,
   "metadata": {},
   "outputs": [
    {
     "data": {
      "text/html": [
       "<div>\n",
       "<style scoped>\n",
       "    .dataframe tbody tr th:only-of-type {\n",
       "        vertical-align: middle;\n",
       "    }\n",
       "\n",
       "    .dataframe tbody tr th {\n",
       "        vertical-align: top;\n",
       "    }\n",
       "\n",
       "    .dataframe thead th {\n",
       "        text-align: right;\n",
       "    }\n",
       "</style>\n",
       "<table border=\"1\" class=\"dataframe\">\n",
       "  <thead>\n",
       "    <tr style=\"text-align: right;\">\n",
       "      <th></th>\n",
       "      <th>timestamp</th>\n",
       "      <th>info</th>\n",
       "      <th>error</th>\n",
       "      <th>debug</th>\n",
       "      <th>warn</th>\n",
       "      <th>exception</th>\n",
       "      <th>filename</th>\n",
       "      <th>line</th>\n",
       "    </tr>\n",
       "  </thead>\n",
       "  <tbody>\n",
       "    <tr>\n",
       "      <th>0</th>\n",
       "      <td>22:15</td>\n",
       "      <td>0</td>\n",
       "      <td>0</td>\n",
       "      <td>0</td>\n",
       "      <td>0</td>\n",
       "      <td>0</td>\n",
       "      <td>HealthApp.log</td>\n",
       "      <td>20171223-22:15:29:606|step_lsc|30002312|onstan...</td>\n",
       "    </tr>\n",
       "    <tr>\n",
       "      <th>1</th>\n",
       "      <td>22:15</td>\n",
       "      <td>0</td>\n",
       "      <td>0</td>\n",
       "      <td>0</td>\n",
       "      <td>0</td>\n",
       "      <td>0</td>\n",
       "      <td>HealthApp.log</td>\n",
       "      <td>20171223-22:15:29:615|step_lsc|30002312|onexte...</td>\n",
       "    </tr>\n",
       "    <tr>\n",
       "      <th>2</th>\n",
       "      <td>22:15</td>\n",
       "      <td>0</td>\n",
       "      <td>0</td>\n",
       "      <td>0</td>\n",
       "      <td>0</td>\n",
       "      <td>0</td>\n",
       "      <td>HealthApp.log</td>\n",
       "      <td>20171223-22:15:29:633|step_standreportreceiver...</td>\n",
       "    </tr>\n",
       "    <tr>\n",
       "      <th>3</th>\n",
       "      <td>22:15</td>\n",
       "      <td>0</td>\n",
       "      <td>0</td>\n",
       "      <td>0</td>\n",
       "      <td>0</td>\n",
       "      <td>0</td>\n",
       "      <td>HealthApp.log</td>\n",
       "      <td>20171223-22:15:29:635|step_lsc|30002312|proces...</td>\n",
       "    </tr>\n",
       "    <tr>\n",
       "      <th>4</th>\n",
       "      <td>22:15</td>\n",
       "      <td>0</td>\n",
       "      <td>0</td>\n",
       "      <td>0</td>\n",
       "      <td>0</td>\n",
       "      <td>0</td>\n",
       "      <td>HealthApp.log</td>\n",
       "      <td>20171223-22:15:29:635|step_standstepcounter|30...</td>\n",
       "    </tr>\n",
       "    <tr>\n",
       "      <th>...</th>\n",
       "      <td>...</td>\n",
       "      <td>...</td>\n",
       "      <td>...</td>\n",
       "      <td>...</td>\n",
       "      <td>...</td>\n",
       "      <td>...</td>\n",
       "      <td>...</td>\n",
       "      <td>...</td>\n",
       "    </tr>\n",
       "    <tr>\n",
       "      <th>495</th>\n",
       "      <td>22:17</td>\n",
       "      <td>0</td>\n",
       "      <td>0</td>\n",
       "      <td>0</td>\n",
       "      <td>0</td>\n",
       "      <td>0</td>\n",
       "      <td>HealthApp.log</td>\n",
       "      <td>20171223-22:17:51:161|step_extsdm|30002312|cal...</td>\n",
       "    </tr>\n",
       "    <tr>\n",
       "      <th>496</th>\n",
       "      <td>22:17</td>\n",
       "      <td>0</td>\n",
       "      <td>0</td>\n",
       "      <td>0</td>\n",
       "      <td>0</td>\n",
       "      <td>0</td>\n",
       "      <td>HealthApp.log</td>\n",
       "      <td>20171223-22:17:51:165|step_standreportreceiver...</td>\n",
       "    </tr>\n",
       "    <tr>\n",
       "      <th>497</th>\n",
       "      <td>22:17</td>\n",
       "      <td>0</td>\n",
       "      <td>0</td>\n",
       "      <td>0</td>\n",
       "      <td>0</td>\n",
       "      <td>0</td>\n",
       "      <td>HealthApp.log</td>\n",
       "      <td>20171223-22:17:51:362|step_lsc|30002312|onstan...</td>\n",
       "    </tr>\n",
       "    <tr>\n",
       "      <th>498</th>\n",
       "      <td>22:17</td>\n",
       "      <td>0</td>\n",
       "      <td>0</td>\n",
       "      <td>0</td>\n",
       "      <td>0</td>\n",
       "      <td>0</td>\n",
       "      <td>HealthApp.log</td>\n",
       "      <td>20171223-22:17:51:370|step_lsc|30002312|onexte...</td>\n",
       "    </tr>\n",
       "    <tr>\n",
       "      <th>499</th>\n",
       "      <td>22:17</td>\n",
       "      <td>0</td>\n",
       "      <td>0</td>\n",
       "      <td>0</td>\n",
       "      <td>0</td>\n",
       "      <td>0</td>\n",
       "      <td>HealthApp.log</td>\n",
       "      <td>20171223-22:17:51:664|step_sputils|30002312| g...</td>\n",
       "    </tr>\n",
       "  </tbody>\n",
       "</table>\n",
       "<p>500 rows × 8 columns</p>\n",
       "</div>"
      ],
      "text/plain": [
       "    timestamp  info  error  debug  warn  exception       filename  \\\n",
       "0       22:15     0      0      0     0          0  HealthApp.log   \n",
       "1       22:15     0      0      0     0          0  HealthApp.log   \n",
       "2       22:15     0      0      0     0          0  HealthApp.log   \n",
       "3       22:15     0      0      0     0          0  HealthApp.log   \n",
       "4       22:15     0      0      0     0          0  HealthApp.log   \n",
       "..        ...   ...    ...    ...   ...        ...            ...   \n",
       "495     22:17     0      0      0     0          0  HealthApp.log   \n",
       "496     22:17     0      0      0     0          0  HealthApp.log   \n",
       "497     22:17     0      0      0     0          0  HealthApp.log   \n",
       "498     22:17     0      0      0     0          0  HealthApp.log   \n",
       "499     22:17     0      0      0     0          0  HealthApp.log   \n",
       "\n",
       "                                                  line  \n",
       "0    20171223-22:15:29:606|step_lsc|30002312|onstan...  \n",
       "1    20171223-22:15:29:615|step_lsc|30002312|onexte...  \n",
       "2    20171223-22:15:29:633|step_standreportreceiver...  \n",
       "3    20171223-22:15:29:635|step_lsc|30002312|proces...  \n",
       "4    20171223-22:15:29:635|step_standstepcounter|30...  \n",
       "..                                                 ...  \n",
       "495  20171223-22:17:51:161|step_extsdm|30002312|cal...  \n",
       "496  20171223-22:17:51:165|step_standreportreceiver...  \n",
       "497  20171223-22:17:51:362|step_lsc|30002312|onstan...  \n",
       "498  20171223-22:17:51:370|step_lsc|30002312|onexte...  \n",
       "499  20171223-22:17:51:664|step_sputils|30002312| g...  \n",
       "\n",
       "[500 rows x 8 columns]"
      ]
     },
     "execution_count": 14,
     "metadata": {},
     "output_type": "execute_result"
    }
   ],
   "source": [
    "df.head(500)"
   ]
  },
  {
   "cell_type": "markdown",
   "metadata": {},
   "source": [
    "## Add time along with  timestamp"
   ]
  },
  {
   "cell_type": "code",
   "execution_count": 15,
   "metadata": {},
   "outputs": [
    {
     "data": {
      "text/html": [
       "<div>\n",
       "<style scoped>\n",
       "    .dataframe tbody tr th:only-of-type {\n",
       "        vertical-align: middle;\n",
       "    }\n",
       "\n",
       "    .dataframe tbody tr th {\n",
       "        vertical-align: top;\n",
       "    }\n",
       "\n",
       "    .dataframe thead th {\n",
       "        text-align: right;\n",
       "    }\n",
       "</style>\n",
       "<table border=\"1\" class=\"dataframe\">\n",
       "  <thead>\n",
       "    <tr style=\"text-align: right;\">\n",
       "      <th></th>\n",
       "      <th>timestamp</th>\n",
       "      <th>info</th>\n",
       "      <th>error</th>\n",
       "      <th>debug</th>\n",
       "      <th>warn</th>\n",
       "      <th>exception</th>\n",
       "      <th>filename</th>\n",
       "      <th>line</th>\n",
       "      <th>time</th>\n",
       "    </tr>\n",
       "  </thead>\n",
       "  <tbody>\n",
       "    <tr>\n",
       "      <th>0</th>\n",
       "      <td>22:15</td>\n",
       "      <td>0</td>\n",
       "      <td>0</td>\n",
       "      <td>0</td>\n",
       "      <td>0</td>\n",
       "      <td>0</td>\n",
       "      <td>HealthApp.log</td>\n",
       "      <td>20171223-22:15:29:606|step_lsc|30002312|onstan...</td>\n",
       "      <td>-2.208987e+09</td>\n",
       "    </tr>\n",
       "    <tr>\n",
       "      <th>1</th>\n",
       "      <td>22:15</td>\n",
       "      <td>0</td>\n",
       "      <td>0</td>\n",
       "      <td>0</td>\n",
       "      <td>0</td>\n",
       "      <td>0</td>\n",
       "      <td>HealthApp.log</td>\n",
       "      <td>20171223-22:15:29:615|step_lsc|30002312|onexte...</td>\n",
       "      <td>-2.208987e+09</td>\n",
       "    </tr>\n",
       "    <tr>\n",
       "      <th>2</th>\n",
       "      <td>22:15</td>\n",
       "      <td>0</td>\n",
       "      <td>0</td>\n",
       "      <td>0</td>\n",
       "      <td>0</td>\n",
       "      <td>0</td>\n",
       "      <td>HealthApp.log</td>\n",
       "      <td>20171223-22:15:29:633|step_standreportreceiver...</td>\n",
       "      <td>-2.208987e+09</td>\n",
       "    </tr>\n",
       "    <tr>\n",
       "      <th>3</th>\n",
       "      <td>22:15</td>\n",
       "      <td>0</td>\n",
       "      <td>0</td>\n",
       "      <td>0</td>\n",
       "      <td>0</td>\n",
       "      <td>0</td>\n",
       "      <td>HealthApp.log</td>\n",
       "      <td>20171223-22:15:29:635|step_lsc|30002312|proces...</td>\n",
       "      <td>-2.208987e+09</td>\n",
       "    </tr>\n",
       "    <tr>\n",
       "      <th>4</th>\n",
       "      <td>22:15</td>\n",
       "      <td>0</td>\n",
       "      <td>0</td>\n",
       "      <td>0</td>\n",
       "      <td>0</td>\n",
       "      <td>0</td>\n",
       "      <td>HealthApp.log</td>\n",
       "      <td>20171223-22:15:29:635|step_standstepcounter|30...</td>\n",
       "      <td>-2.208987e+09</td>\n",
       "    </tr>\n",
       "    <tr>\n",
       "      <th>...</th>\n",
       "      <td>...</td>\n",
       "      <td>...</td>\n",
       "      <td>...</td>\n",
       "      <td>...</td>\n",
       "      <td>...</td>\n",
       "      <td>...</td>\n",
       "      <td>...</td>\n",
       "      <td>...</td>\n",
       "      <td>...</td>\n",
       "    </tr>\n",
       "    <tr>\n",
       "      <th>495</th>\n",
       "      <td>22:17</td>\n",
       "      <td>0</td>\n",
       "      <td>0</td>\n",
       "      <td>0</td>\n",
       "      <td>0</td>\n",
       "      <td>0</td>\n",
       "      <td>HealthApp.log</td>\n",
       "      <td>20171223-22:17:51:161|step_extsdm|30002312|cal...</td>\n",
       "      <td>-2.208987e+09</td>\n",
       "    </tr>\n",
       "    <tr>\n",
       "      <th>496</th>\n",
       "      <td>22:17</td>\n",
       "      <td>0</td>\n",
       "      <td>0</td>\n",
       "      <td>0</td>\n",
       "      <td>0</td>\n",
       "      <td>0</td>\n",
       "      <td>HealthApp.log</td>\n",
       "      <td>20171223-22:17:51:165|step_standreportreceiver...</td>\n",
       "      <td>-2.208987e+09</td>\n",
       "    </tr>\n",
       "    <tr>\n",
       "      <th>497</th>\n",
       "      <td>22:17</td>\n",
       "      <td>0</td>\n",
       "      <td>0</td>\n",
       "      <td>0</td>\n",
       "      <td>0</td>\n",
       "      <td>0</td>\n",
       "      <td>HealthApp.log</td>\n",
       "      <td>20171223-22:17:51:362|step_lsc|30002312|onstan...</td>\n",
       "      <td>-2.208987e+09</td>\n",
       "    </tr>\n",
       "    <tr>\n",
       "      <th>498</th>\n",
       "      <td>22:17</td>\n",
       "      <td>0</td>\n",
       "      <td>0</td>\n",
       "      <td>0</td>\n",
       "      <td>0</td>\n",
       "      <td>0</td>\n",
       "      <td>HealthApp.log</td>\n",
       "      <td>20171223-22:17:51:370|step_lsc|30002312|onexte...</td>\n",
       "      <td>-2.208987e+09</td>\n",
       "    </tr>\n",
       "    <tr>\n",
       "      <th>499</th>\n",
       "      <td>22:17</td>\n",
       "      <td>0</td>\n",
       "      <td>0</td>\n",
       "      <td>0</td>\n",
       "      <td>0</td>\n",
       "      <td>0</td>\n",
       "      <td>HealthApp.log</td>\n",
       "      <td>20171223-22:17:51:664|step_sputils|30002312| g...</td>\n",
       "      <td>-2.208987e+09</td>\n",
       "    </tr>\n",
       "  </tbody>\n",
       "</table>\n",
       "<p>500 rows × 9 columns</p>\n",
       "</div>"
      ],
      "text/plain": [
       "    timestamp  info  error  debug  warn  exception       filename  \\\n",
       "0       22:15     0      0      0     0          0  HealthApp.log   \n",
       "1       22:15     0      0      0     0          0  HealthApp.log   \n",
       "2       22:15     0      0      0     0          0  HealthApp.log   \n",
       "3       22:15     0      0      0     0          0  HealthApp.log   \n",
       "4       22:15     0      0      0     0          0  HealthApp.log   \n",
       "..        ...   ...    ...    ...   ...        ...            ...   \n",
       "495     22:17     0      0      0     0          0  HealthApp.log   \n",
       "496     22:17     0      0      0     0          0  HealthApp.log   \n",
       "497     22:17     0      0      0     0          0  HealthApp.log   \n",
       "498     22:17     0      0      0     0          0  HealthApp.log   \n",
       "499     22:17     0      0      0     0          0  HealthApp.log   \n",
       "\n",
       "                                                  line          time  \n",
       "0    20171223-22:15:29:606|step_lsc|30002312|onstan... -2.208987e+09  \n",
       "1    20171223-22:15:29:615|step_lsc|30002312|onexte... -2.208987e+09  \n",
       "2    20171223-22:15:29:633|step_standreportreceiver... -2.208987e+09  \n",
       "3    20171223-22:15:29:635|step_lsc|30002312|proces... -2.208987e+09  \n",
       "4    20171223-22:15:29:635|step_standstepcounter|30... -2.208987e+09  \n",
       "..                                                 ...           ...  \n",
       "495  20171223-22:17:51:161|step_extsdm|30002312|cal... -2.208987e+09  \n",
       "496  20171223-22:17:51:165|step_standreportreceiver... -2.208987e+09  \n",
       "497  20171223-22:17:51:362|step_lsc|30002312|onstan... -2.208987e+09  \n",
       "498  20171223-22:17:51:370|step_lsc|30002312|onexte... -2.208987e+09  \n",
       "499  20171223-22:17:51:664|step_sputils|30002312| g... -2.208987e+09  \n",
       "\n",
       "[500 rows x 9 columns]"
      ]
     },
     "execution_count": 15,
     "metadata": {},
     "output_type": "execute_result"
    }
   ],
   "source": [
    "# create a new column time and conver timestamp to time\n",
    "df[\"time\"] = [time.mktime(t.timetuple()) if not pd.isnull(t) else None  for t in pd.to_datetime(df['timestamp'], format='%M:%S', errors='coerce')]\n",
    "df.head(500)"
   ]
  },
  {
   "cell_type": "markdown",
   "metadata": {},
   "source": [
    "## Count , how many logs entries of given timestamp"
   ]
  },
  {
   "cell_type": "markdown",
   "metadata": {},
   "source": [
    "## Hold the value in timestamp_count"
   ]
  },
  {
   "cell_type": "code",
   "execution_count": 22,
   "metadata": {},
   "outputs": [
    {
     "data": {
      "text/html": [
       "<div>\n",
       "<style scoped>\n",
       "    .dataframe tbody tr th:only-of-type {\n",
       "        vertical-align: middle;\n",
       "    }\n",
       "\n",
       "    .dataframe tbody tr th {\n",
       "        vertical-align: top;\n",
       "    }\n",
       "\n",
       "    .dataframe thead th {\n",
       "        text-align: right;\n",
       "    }\n",
       "</style>\n",
       "<table border=\"1\" class=\"dataframe\">\n",
       "  <thead>\n",
       "    <tr style=\"text-align: right;\">\n",
       "      <th></th>\n",
       "      <th>timestamp</th>\n",
       "      <th>info</th>\n",
       "      <th>error</th>\n",
       "      <th>debug</th>\n",
       "      <th>warn</th>\n",
       "      <th>exception</th>\n",
       "      <th>filename</th>\n",
       "      <th>line</th>\n",
       "      <th>time</th>\n",
       "      <th>timestamp_count</th>\n",
       "    </tr>\n",
       "  </thead>\n",
       "  <tbody>\n",
       "    <tr>\n",
       "      <th>0</th>\n",
       "      <td>22:15</td>\n",
       "      <td>0</td>\n",
       "      <td>0</td>\n",
       "      <td>0</td>\n",
       "      <td>0</td>\n",
       "      <td>0</td>\n",
       "      <td>HealthApp.log</td>\n",
       "      <td>20171223-22:15:29:606|step_lsc|30002312|onstan...</td>\n",
       "      <td>-2.208987e+09</td>\n",
       "      <td>316.0</td>\n",
       "    </tr>\n",
       "    <tr>\n",
       "      <th>1</th>\n",
       "      <td>22:15</td>\n",
       "      <td>0</td>\n",
       "      <td>0</td>\n",
       "      <td>0</td>\n",
       "      <td>0</td>\n",
       "      <td>0</td>\n",
       "      <td>HealthApp.log</td>\n",
       "      <td>20171223-22:15:29:615|step_lsc|30002312|onexte...</td>\n",
       "      <td>-2.208987e+09</td>\n",
       "      <td>316.0</td>\n",
       "    </tr>\n",
       "    <tr>\n",
       "      <th>2</th>\n",
       "      <td>22:15</td>\n",
       "      <td>0</td>\n",
       "      <td>0</td>\n",
       "      <td>0</td>\n",
       "      <td>0</td>\n",
       "      <td>0</td>\n",
       "      <td>HealthApp.log</td>\n",
       "      <td>20171223-22:15:29:633|step_standreportreceiver...</td>\n",
       "      <td>-2.208987e+09</td>\n",
       "      <td>316.0</td>\n",
       "    </tr>\n",
       "    <tr>\n",
       "      <th>3</th>\n",
       "      <td>22:15</td>\n",
       "      <td>0</td>\n",
       "      <td>0</td>\n",
       "      <td>0</td>\n",
       "      <td>0</td>\n",
       "      <td>0</td>\n",
       "      <td>HealthApp.log</td>\n",
       "      <td>20171223-22:15:29:635|step_lsc|30002312|proces...</td>\n",
       "      <td>-2.208987e+09</td>\n",
       "      <td>316.0</td>\n",
       "    </tr>\n",
       "    <tr>\n",
       "      <th>4</th>\n",
       "      <td>22:15</td>\n",
       "      <td>0</td>\n",
       "      <td>0</td>\n",
       "      <td>0</td>\n",
       "      <td>0</td>\n",
       "      <td>0</td>\n",
       "      <td>HealthApp.log</td>\n",
       "      <td>20171223-22:15:29:635|step_standstepcounter|30...</td>\n",
       "      <td>-2.208987e+09</td>\n",
       "      <td>316.0</td>\n",
       "    </tr>\n",
       "    <tr>\n",
       "      <th>...</th>\n",
       "      <td>...</td>\n",
       "      <td>...</td>\n",
       "      <td>...</td>\n",
       "      <td>...</td>\n",
       "      <td>...</td>\n",
       "      <td>...</td>\n",
       "      <td>...</td>\n",
       "      <td>...</td>\n",
       "      <td>...</td>\n",
       "      <td>...</td>\n",
       "    </tr>\n",
       "    <tr>\n",
       "      <th>31995</th>\n",
       "      <td>20:11</td>\n",
       "      <td>1</td>\n",
       "      <td>0</td>\n",
       "      <td>0</td>\n",
       "      <td>0</td>\n",
       "      <td>0</td>\n",
       "      <td>Spark.log</td>\n",
       "      <td>17/06/09 20:11:11 info storage.blockmanager: f...</td>\n",
       "      <td>-2.208988e+09</td>\n",
       "      <td>914.0</td>\n",
       "    </tr>\n",
       "    <tr>\n",
       "      <th>31996</th>\n",
       "      <td>20:11</td>\n",
       "      <td>1</td>\n",
       "      <td>0</td>\n",
       "      <td>0</td>\n",
       "      <td>0</td>\n",
       "      <td>0</td>\n",
       "      <td>Spark.log</td>\n",
       "      <td>17/06/09 20:11:11 info executor.executor: fini...</td>\n",
       "      <td>-2.208988e+09</td>\n",
       "      <td>914.0</td>\n",
       "    </tr>\n",
       "    <tr>\n",
       "      <th>31997</th>\n",
       "      <td>20:11</td>\n",
       "      <td>1</td>\n",
       "      <td>0</td>\n",
       "      <td>0</td>\n",
       "      <td>0</td>\n",
       "      <td>0</td>\n",
       "      <td>Spark.log</td>\n",
       "      <td>17/06/09 20:11:11 info executor.coarsegrainede...</td>\n",
       "      <td>-2.208988e+09</td>\n",
       "      <td>914.0</td>\n",
       "    </tr>\n",
       "    <tr>\n",
       "      <th>31998</th>\n",
       "      <td>20:11</td>\n",
       "      <td>1</td>\n",
       "      <td>0</td>\n",
       "      <td>0</td>\n",
       "      <td>0</td>\n",
       "      <td>0</td>\n",
       "      <td>Spark.log</td>\n",
       "      <td>17/06/09 20:11:11 info executor.executor: runn...</td>\n",
       "      <td>-2.208988e+09</td>\n",
       "      <td>914.0</td>\n",
       "    </tr>\n",
       "    <tr>\n",
       "      <th>31999</th>\n",
       "      <td>20:11</td>\n",
       "      <td>1</td>\n",
       "      <td>0</td>\n",
       "      <td>0</td>\n",
       "      <td>0</td>\n",
       "      <td>0</td>\n",
       "      <td>Spark.log</td>\n",
       "      <td>17/06/09 20:11:11 info storage.blockmanager: f...</td>\n",
       "      <td>-2.208988e+09</td>\n",
       "      <td>914.0</td>\n",
       "    </tr>\n",
       "  </tbody>\n",
       "</table>\n",
       "<p>32000 rows × 10 columns</p>\n",
       "</div>"
      ],
      "text/plain": [
       "      timestamp  info  error  debug  warn  exception       filename  \\\n",
       "0         22:15     0      0      0     0          0  HealthApp.log   \n",
       "1         22:15     0      0      0     0          0  HealthApp.log   \n",
       "2         22:15     0      0      0     0          0  HealthApp.log   \n",
       "3         22:15     0      0      0     0          0  HealthApp.log   \n",
       "4         22:15     0      0      0     0          0  HealthApp.log   \n",
       "...         ...   ...    ...    ...   ...        ...            ...   \n",
       "31995     20:11     1      0      0     0          0      Spark.log   \n",
       "31996     20:11     1      0      0     0          0      Spark.log   \n",
       "31997     20:11     1      0      0     0          0      Spark.log   \n",
       "31998     20:11     1      0      0     0          0      Spark.log   \n",
       "31999     20:11     1      0      0     0          0      Spark.log   \n",
       "\n",
       "                                                    line          time  \\\n",
       "0      20171223-22:15:29:606|step_lsc|30002312|onstan... -2.208987e+09   \n",
       "1      20171223-22:15:29:615|step_lsc|30002312|onexte... -2.208987e+09   \n",
       "2      20171223-22:15:29:633|step_standreportreceiver... -2.208987e+09   \n",
       "3      20171223-22:15:29:635|step_lsc|30002312|proces... -2.208987e+09   \n",
       "4      20171223-22:15:29:635|step_standstepcounter|30... -2.208987e+09   \n",
       "...                                                  ...           ...   \n",
       "31995  17/06/09 20:11:11 info storage.blockmanager: f... -2.208988e+09   \n",
       "31996  17/06/09 20:11:11 info executor.executor: fini... -2.208988e+09   \n",
       "31997  17/06/09 20:11:11 info executor.coarsegrainede... -2.208988e+09   \n",
       "31998  17/06/09 20:11:11 info executor.executor: runn... -2.208988e+09   \n",
       "31999  17/06/09 20:11:11 info storage.blockmanager: f... -2.208988e+09   \n",
       "\n",
       "       timestamp_count  \n",
       "0                316.0  \n",
       "1                316.0  \n",
       "2                316.0  \n",
       "3                316.0  \n",
       "4                316.0  \n",
       "...                ...  \n",
       "31995            914.0  \n",
       "31996            914.0  \n",
       "31997            914.0  \n",
       "31998            914.0  \n",
       "31999            914.0  \n",
       "\n",
       "[32000 rows x 10 columns]"
      ]
     },
     "execution_count": 22,
     "metadata": {},
     "output_type": "execute_result"
    }
   ],
   "source": [
    "count_cell_entries(df, col_name='timestamp', output_col_name='timestamp_count')\n"
   ]
  },
  {
   "cell_type": "markdown",
   "metadata": {},
   "source": [
    "### sort by timestamp_count"
   ]
  },
  {
   "cell_type": "code",
   "execution_count": 23,
   "metadata": {},
   "outputs": [
    {
     "data": {
      "text/html": [
       "<div>\n",
       "<style scoped>\n",
       "    .dataframe tbody tr th:only-of-type {\n",
       "        vertical-align: middle;\n",
       "    }\n",
       "\n",
       "    .dataframe tbody tr th {\n",
       "        vertical-align: top;\n",
       "    }\n",
       "\n",
       "    .dataframe thead th {\n",
       "        text-align: right;\n",
       "    }\n",
       "</style>\n",
       "<table border=\"1\" class=\"dataframe\">\n",
       "  <thead>\n",
       "    <tr style=\"text-align: right;\">\n",
       "      <th></th>\n",
       "      <th>timestamp</th>\n",
       "      <th>info</th>\n",
       "      <th>error</th>\n",
       "      <th>debug</th>\n",
       "      <th>warn</th>\n",
       "      <th>exception</th>\n",
       "      <th>filename</th>\n",
       "      <th>line</th>\n",
       "      <th>time</th>\n",
       "      <th>timestamp_count</th>\n",
       "    </tr>\n",
       "  </thead>\n",
       "  <tbody>\n",
       "    <tr>\n",
       "      <th>30991</th>\n",
       "      <td>20:10</td>\n",
       "      <td>1</td>\n",
       "      <td>0</td>\n",
       "      <td>0</td>\n",
       "      <td>0</td>\n",
       "      <td>0</td>\n",
       "      <td>Spark.log</td>\n",
       "      <td>17/06/09 20:10:58 info output.fileoutputcommit...</td>\n",
       "      <td>-2.208988e+09</td>\n",
       "      <td>1101.0</td>\n",
       "    </tr>\n",
       "    <tr>\n",
       "      <th>30669</th>\n",
       "      <td>20:10</td>\n",
       "      <td>1</td>\n",
       "      <td>0</td>\n",
       "      <td>0</td>\n",
       "      <td>0</td>\n",
       "      <td>0</td>\n",
       "      <td>Spark.log</td>\n",
       "      <td>17/06/09 20:10:56 info executor.executor: fini...</td>\n",
       "      <td>-2.208988e+09</td>\n",
       "      <td>1101.0</td>\n",
       "    </tr>\n",
       "    <tr>\n",
       "      <th>30656</th>\n",
       "      <td>20:10</td>\n",
       "      <td>1</td>\n",
       "      <td>0</td>\n",
       "      <td>0</td>\n",
       "      <td>0</td>\n",
       "      <td>0</td>\n",
       "      <td>Spark.log</td>\n",
       "      <td>17/06/09 20:10:55 info executor.executor: runn...</td>\n",
       "      <td>-2.208988e+09</td>\n",
       "      <td>1101.0</td>\n",
       "    </tr>\n",
       "    <tr>\n",
       "      <th>30657</th>\n",
       "      <td>20:10</td>\n",
       "      <td>1</td>\n",
       "      <td>0</td>\n",
       "      <td>0</td>\n",
       "      <td>0</td>\n",
       "      <td>0</td>\n",
       "      <td>Spark.log</td>\n",
       "      <td>17/06/09 20:10:55 info storage.memorystore: bl...</td>\n",
       "      <td>-2.208988e+09</td>\n",
       "      <td>1101.0</td>\n",
       "    </tr>\n",
       "    <tr>\n",
       "      <th>30658</th>\n",
       "      <td>20:10</td>\n",
       "      <td>1</td>\n",
       "      <td>0</td>\n",
       "      <td>0</td>\n",
       "      <td>0</td>\n",
       "      <td>0</td>\n",
       "      <td>Spark.log</td>\n",
       "      <td>17/06/09 20:10:55 info broadcast.torrentbroadc...</td>\n",
       "      <td>-2.208988e+09</td>\n",
       "      <td>1101.0</td>\n",
       "    </tr>\n",
       "    <tr>\n",
       "      <th>...</th>\n",
       "      <td>...</td>\n",
       "      <td>...</td>\n",
       "      <td>...</td>\n",
       "      <td>...</td>\n",
       "      <td>...</td>\n",
       "      <td>...</td>\n",
       "      <td>...</td>\n",
       "      <td>...</td>\n",
       "      <td>...</td>\n",
       "      <td>...</td>\n",
       "    </tr>\n",
       "    <tr>\n",
       "      <th>23995</th>\n",
       "      <td>NaN</td>\n",
       "      <td>1</td>\n",
       "      <td>1</td>\n",
       "      <td>0</td>\n",
       "      <td>0</td>\n",
       "      <td>0</td>\n",
       "      <td>BGL.log</td>\n",
       "      <td>- 1135665476 2005.12.26 r37-m1-nc-c:j02-u11 20...</td>\n",
       "      <td>NaN</td>\n",
       "      <td>NaN</td>\n",
       "    </tr>\n",
       "    <tr>\n",
       "      <th>23996</th>\n",
       "      <td>NaN</td>\n",
       "      <td>1</td>\n",
       "      <td>1</td>\n",
       "      <td>0</td>\n",
       "      <td>0</td>\n",
       "      <td>0</td>\n",
       "      <td>BGL.log</td>\n",
       "      <td>- 1135669430 2005.12.26 r37-m1-nc-c:j02-u11 20...</td>\n",
       "      <td>NaN</td>\n",
       "      <td>NaN</td>\n",
       "    </tr>\n",
       "    <tr>\n",
       "      <th>23997</th>\n",
       "      <td>NaN</td>\n",
       "      <td>1</td>\n",
       "      <td>1</td>\n",
       "      <td>0</td>\n",
       "      <td>0</td>\n",
       "      <td>0</td>\n",
       "      <td>BGL.log</td>\n",
       "      <td>- 1135669517 2005.12.26 r37-m1-nc-c:j02-u11 20...</td>\n",
       "      <td>NaN</td>\n",
       "      <td>NaN</td>\n",
       "    </tr>\n",
       "    <tr>\n",
       "      <th>23998</th>\n",
       "      <td>NaN</td>\n",
       "      <td>1</td>\n",
       "      <td>1</td>\n",
       "      <td>0</td>\n",
       "      <td>0</td>\n",
       "      <td>0</td>\n",
       "      <td>BGL.log</td>\n",
       "      <td>- 1135675498 2005.12.27 r37-m1-nc-c:j02-u11 20...</td>\n",
       "      <td>NaN</td>\n",
       "      <td>NaN</td>\n",
       "    </tr>\n",
       "    <tr>\n",
       "      <th>23999</th>\n",
       "      <td>NaN</td>\n",
       "      <td>1</td>\n",
       "      <td>0</td>\n",
       "      <td>0</td>\n",
       "      <td>0</td>\n",
       "      <td>0</td>\n",
       "      <td>BGL.log</td>\n",
       "      <td>- 1136301189 2006.01.03 r07-m0-n0-i:j18-u11 20...</td>\n",
       "      <td>NaN</td>\n",
       "      <td>NaN</td>\n",
       "    </tr>\n",
       "  </tbody>\n",
       "</table>\n",
       "<p>32000 rows × 10 columns</p>\n",
       "</div>"
      ],
      "text/plain": [
       "      timestamp  info  error  debug  warn  exception   filename  \\\n",
       "30991     20:10     1      0      0     0          0  Spark.log   \n",
       "30669     20:10     1      0      0     0          0  Spark.log   \n",
       "30656     20:10     1      0      0     0          0  Spark.log   \n",
       "30657     20:10     1      0      0     0          0  Spark.log   \n",
       "30658     20:10     1      0      0     0          0  Spark.log   \n",
       "...         ...   ...    ...    ...   ...        ...        ...   \n",
       "23995       NaN     1      1      0     0          0    BGL.log   \n",
       "23996       NaN     1      1      0     0          0    BGL.log   \n",
       "23997       NaN     1      1      0     0          0    BGL.log   \n",
       "23998       NaN     1      1      0     0          0    BGL.log   \n",
       "23999       NaN     1      0      0     0          0    BGL.log   \n",
       "\n",
       "                                                    line          time  \\\n",
       "30991  17/06/09 20:10:58 info output.fileoutputcommit... -2.208988e+09   \n",
       "30669  17/06/09 20:10:56 info executor.executor: fini... -2.208988e+09   \n",
       "30656  17/06/09 20:10:55 info executor.executor: runn... -2.208988e+09   \n",
       "30657  17/06/09 20:10:55 info storage.memorystore: bl... -2.208988e+09   \n",
       "30658  17/06/09 20:10:55 info broadcast.torrentbroadc... -2.208988e+09   \n",
       "...                                                  ...           ...   \n",
       "23995  - 1135665476 2005.12.26 r37-m1-nc-c:j02-u11 20...           NaN   \n",
       "23996  - 1135669430 2005.12.26 r37-m1-nc-c:j02-u11 20...           NaN   \n",
       "23997  - 1135669517 2005.12.26 r37-m1-nc-c:j02-u11 20...           NaN   \n",
       "23998  - 1135675498 2005.12.27 r37-m1-nc-c:j02-u11 20...           NaN   \n",
       "23999  - 1136301189 2006.01.03 r07-m0-n0-i:j18-u11 20...           NaN   \n",
       "\n",
       "       timestamp_count  \n",
       "30991           1101.0  \n",
       "30669           1101.0  \n",
       "30656           1101.0  \n",
       "30657           1101.0  \n",
       "30658           1101.0  \n",
       "...                ...  \n",
       "23995              NaN  \n",
       "23996              NaN  \n",
       "23997              NaN  \n",
       "23998              NaN  \n",
       "23999              NaN  \n",
       "\n",
       "[32000 rows x 10 columns]"
      ]
     },
     "execution_count": 23,
     "metadata": {},
     "output_type": "execute_result"
    }
   ],
   "source": [
    "df = df.sort_values(by=['timestamp_count'], ascending=False)\n",
    "df"
   ]
  },
  {
   "cell_type": "code",
   "execution_count": null,
   "metadata": {},
   "outputs": [],
   "source": []
  },
  {
   "cell_type": "code",
   "execution_count": null,
   "metadata": {},
   "outputs": [],
   "source": []
  },
  {
   "cell_type": "code",
   "execution_count": null,
   "metadata": {},
   "outputs": [],
   "source": []
  },
  {
   "cell_type": "code",
   "execution_count": null,
   "metadata": {},
   "outputs": [],
   "source": []
  },
  {
   "cell_type": "code",
   "execution_count": null,
   "metadata": {},
   "outputs": [],
   "source": []
  },
  {
   "cell_type": "code",
   "execution_count": null,
   "metadata": {},
   "outputs": [],
   "source": []
  },
  {
   "cell_type": "code",
   "execution_count": null,
   "metadata": {},
   "outputs": [],
   "source": []
  },
  {
   "cell_type": "code",
   "execution_count": null,
   "metadata": {},
   "outputs": [],
   "source": []
  },
  {
   "cell_type": "code",
   "execution_count": null,
   "metadata": {},
   "outputs": [],
   "source": []
  },
  {
   "cell_type": "code",
   "execution_count": null,
   "metadata": {},
   "outputs": [],
   "source": []
  },
  {
   "cell_type": "markdown",
   "metadata": {},
   "source": [
    "### Draw  Plots and Graph\n"
   ]
  },
  {
   "cell_type": "markdown",
   "metadata": {},
   "source": [
    "### How many rows having error value"
   ]
  },
  {
   "cell_type": "code",
   "execution_count": null,
   "metadata": {},
   "outputs": [],
   "source": [
    "sns.countplot(x=\"error\", data=df)"
   ]
  },
  {
   "cell_type": "code",
   "execution_count": 96,
   "metadata": {},
   "outputs": [
    {
     "data": {
      "text/plain": [
       "<matplotlib.axes._subplots.AxesSubplot at 0x7ff1ee4e70f0>"
      ]
     },
     "execution_count": 96,
     "metadata": {},
     "output_type": "execute_result"
    },
    {
     "data": {
      "image/png": "[encoded data removed]",
      "text/plain": [
       "<Figure size 432x288 with 1 Axes>"
      ]
     },
     "metadata": {
      "needs_background": "light"
     },
     "output_type": "display_data"
    }
   ],
   "source": [
    "# how many rows having exception value\n",
    "sns.countplot(x=\"exception\", data=df)"
   ]
  },
  {
   "cell_type": "code",
   "execution_count": 97,
   "metadata": {},
   "outputs": [
    {
     "data": {
      "text/plain": [
       "<matplotlib.axes._subplots.AxesSubplot at 0x7ff1ee1dacc0>"
      ]
     },
     "execution_count": 97,
     "metadata": {},
     "output_type": "execute_result"
    },
    {
     "data": {
      "image/png": "[encoded data removed]",
      "text/plain": [
       "<Figure size 432x288 with 1 Axes>"
      ]
     },
     "metadata": {
      "needs_background": "light"
     },
     "output_type": "display_data"
    }
   ],
   "source": [
    "# how many rows having warn value\n",
    "sns.countplot(x=\"warn\", data=df)"
   ]
  },
  {
   "cell_type": "markdown",
   "metadata": {},
   "source": [
    "### Draw histogram "
   ]
  },
  {
   "cell_type": "code",
   "execution_count": null,
   "metadata": {},
   "outputs": [],
   "source": []
  },
  {
   "cell_type": "code",
   "execution_count": 98,
   "metadata": {},
   "outputs": [
    {
     "data": {
      "text/plain": [
       "<matplotlib.axes._subplots.AxesSubplot at 0x7ff1ee4716a0>"
      ]
     },
     "execution_count": 98,
     "metadata": {},
     "output_type": "execute_result"
    },
    {
     "data": {
      "image/png": "[encoded data removed]",
      "text/plain": [
       "<Figure size 432x288 with 1 Axes>"
      ]
     },
     "metadata": {
      "needs_background": "light"
     },
     "output_type": "display_data"
    }
   ],
   "source": [
    "df['warn'].plot.hist()"
   ]
  },
  {
   "cell_type": "code",
   "execution_count": 99,
   "metadata": {},
   "outputs": [
    {
     "data": {
      "text/plain": [
       "<matplotlib.axes._subplots.AxesSubplot at 0x7ff1edba4780>"
      ]
     },
     "execution_count": 99,
     "metadata": {},
     "output_type": "execute_result"
    },
    {
     "data": {
      "image/png": "[encoded data removed]",
      "text/plain": [
       "<Figure size 432x288 with 1 Axes>"
      ]
     },
     "metadata": {
      "needs_background": "light"
     },
     "output_type": "display_data"
    }
   ],
   "source": [
    "df['exception'].plot.hist()"
   ]
  },
  {
   "cell_type": "markdown",
   "metadata": {},
   "source": [
    "#  Data Wrangling\n"
   ]
  },
  {
   "cell_type": "markdown",
   "metadata": {},
   "source": [
    "## Data Wrangling is to remove null or empty data, cleaning data set"
   ]
  },
  {
   "cell_type": "code",
   "execution_count": 100,
   "metadata": {},
   "outputs": [
    {
     "name": "stdout",
     "output_type": "stream",
     "text": [
      "<class 'pandas.core.frame.DataFrame'>\n",
      "Int64Index: 32000 entries, 30991 to 23999\n",
      "Data columns (total 10 columns):\n",
      "timestamp          25793 non-null object\n",
      "info               32000 non-null int64\n",
      "error              32000 non-null int64\n",
      "debug              32000 non-null int64\n",
      "warn               32000 non-null int64\n",
      "exception          32000 non-null int64\n",
      "filename           32000 non-null object\n",
      "line               32000 non-null object\n",
      "time               5268 non-null float64\n",
      "timestamp_count    25793 non-null float64\n",
      "dtypes: float64(2), int64(5), object(3)\n",
      "memory usage: 3.9+ MB\n",
      "None\n"
     ]
    }
   ],
   "source": [
    "print((df.info()))\n"
   ]
  },
  {
   "cell_type": "code",
   "execution_count": 101,
   "metadata": {},
   "outputs": [
    {
     "data": {
      "text/html": [
       "<div>\n",
       "<style scoped>\n",
       "    .dataframe tbody tr th:only-of-type {\n",
       "        vertical-align: middle;\n",
       "    }\n",
       "\n",
       "    .dataframe tbody tr th {\n",
       "        vertical-align: top;\n",
       "    }\n",
       "\n",
       "    .dataframe thead th {\n",
       "        text-align: right;\n",
       "    }\n",
       "</style>\n",
       "<table border=\"1\" class=\"dataframe\">\n",
       "  <thead>\n",
       "    <tr style=\"text-align: right;\">\n",
       "      <th></th>\n",
       "      <th>timestamp</th>\n",
       "      <th>info</th>\n",
       "      <th>error</th>\n",
       "      <th>debug</th>\n",
       "      <th>warn</th>\n",
       "      <th>exception</th>\n",
       "      <th>filename</th>\n",
       "      <th>line</th>\n",
       "      <th>time</th>\n",
       "      <th>timestamp_count</th>\n",
       "    </tr>\n",
       "  </thead>\n",
       "  <tbody>\n",
       "    <tr>\n",
       "      <th>30991</th>\n",
       "      <td>False</td>\n",
       "      <td>False</td>\n",
       "      <td>False</td>\n",
       "      <td>False</td>\n",
       "      <td>False</td>\n",
       "      <td>False</td>\n",
       "      <td>False</td>\n",
       "      <td>False</td>\n",
       "      <td>False</td>\n",
       "      <td>False</td>\n",
       "    </tr>\n",
       "    <tr>\n",
       "      <th>30072</th>\n",
       "      <td>False</td>\n",
       "      <td>False</td>\n",
       "      <td>False</td>\n",
       "      <td>False</td>\n",
       "      <td>False</td>\n",
       "      <td>False</td>\n",
       "      <td>False</td>\n",
       "      <td>False</td>\n",
       "      <td>False</td>\n",
       "      <td>False</td>\n",
       "    </tr>\n",
       "    <tr>\n",
       "      <th>30066</th>\n",
       "      <td>False</td>\n",
       "      <td>False</td>\n",
       "      <td>False</td>\n",
       "      <td>False</td>\n",
       "      <td>False</td>\n",
       "      <td>False</td>\n",
       "      <td>False</td>\n",
       "      <td>False</td>\n",
       "      <td>False</td>\n",
       "      <td>False</td>\n",
       "    </tr>\n",
       "    <tr>\n",
       "      <th>30067</th>\n",
       "      <td>False</td>\n",
       "      <td>False</td>\n",
       "      <td>False</td>\n",
       "      <td>False</td>\n",
       "      <td>False</td>\n",
       "      <td>False</td>\n",
       "      <td>False</td>\n",
       "      <td>False</td>\n",
       "      <td>False</td>\n",
       "      <td>False</td>\n",
       "    </tr>\n",
       "    <tr>\n",
       "      <th>30068</th>\n",
       "      <td>False</td>\n",
       "      <td>False</td>\n",
       "      <td>False</td>\n",
       "      <td>False</td>\n",
       "      <td>False</td>\n",
       "      <td>False</td>\n",
       "      <td>False</td>\n",
       "      <td>False</td>\n",
       "      <td>False</td>\n",
       "      <td>False</td>\n",
       "    </tr>\n",
       "    <tr>\n",
       "      <th>...</th>\n",
       "      <td>...</td>\n",
       "      <td>...</td>\n",
       "      <td>...</td>\n",
       "      <td>...</td>\n",
       "      <td>...</td>\n",
       "      <td>...</td>\n",
       "      <td>...</td>\n",
       "      <td>...</td>\n",
       "      <td>...</td>\n",
       "      <td>...</td>\n",
       "    </tr>\n",
       "    <tr>\n",
       "      <th>23995</th>\n",
       "      <td>True</td>\n",
       "      <td>False</td>\n",
       "      <td>False</td>\n",
       "      <td>False</td>\n",
       "      <td>False</td>\n",
       "      <td>False</td>\n",
       "      <td>False</td>\n",
       "      <td>False</td>\n",
       "      <td>True</td>\n",
       "      <td>True</td>\n",
       "    </tr>\n",
       "    <tr>\n",
       "      <th>23996</th>\n",
       "      <td>True</td>\n",
       "      <td>False</td>\n",
       "      <td>False</td>\n",
       "      <td>False</td>\n",
       "      <td>False</td>\n",
       "      <td>False</td>\n",
       "      <td>False</td>\n",
       "      <td>False</td>\n",
       "      <td>True</td>\n",
       "      <td>True</td>\n",
       "    </tr>\n",
       "    <tr>\n",
       "      <th>23997</th>\n",
       "      <td>True</td>\n",
       "      <td>False</td>\n",
       "      <td>False</td>\n",
       "      <td>False</td>\n",
       "      <td>False</td>\n",
       "      <td>False</td>\n",
       "      <td>False</td>\n",
       "      <td>False</td>\n",
       "      <td>True</td>\n",
       "      <td>True</td>\n",
       "    </tr>\n",
       "    <tr>\n",
       "      <th>23998</th>\n",
       "      <td>True</td>\n",
       "      <td>False</td>\n",
       "      <td>False</td>\n",
       "      <td>False</td>\n",
       "      <td>False</td>\n",
       "      <td>False</td>\n",
       "      <td>False</td>\n",
       "      <td>False</td>\n",
       "      <td>True</td>\n",
       "      <td>True</td>\n",
       "    </tr>\n",
       "    <tr>\n",
       "      <th>23999</th>\n",
       "      <td>True</td>\n",
       "      <td>False</td>\n",
       "      <td>False</td>\n",
       "      <td>False</td>\n",
       "      <td>False</td>\n",
       "      <td>False</td>\n",
       "      <td>False</td>\n",
       "      <td>False</td>\n",
       "      <td>True</td>\n",
       "      <td>True</td>\n",
       "    </tr>\n",
       "  </tbody>\n",
       "</table>\n",
       "<p>32000 rows × 10 columns</p>\n",
       "</div>"
      ],
      "text/plain": [
       "       timestamp   info  error  debug   warn  exception  filename   line  \\\n",
       "30991      False  False  False  False  False      False     False  False   \n",
       "30072      False  False  False  False  False      False     False  False   \n",
       "30066      False  False  False  False  False      False     False  False   \n",
       "30067      False  False  False  False  False      False     False  False   \n",
       "30068      False  False  False  False  False      False     False  False   \n",
       "...          ...    ...    ...    ...    ...        ...       ...    ...   \n",
       "23995       True  False  False  False  False      False     False  False   \n",
       "23996       True  False  False  False  False      False     False  False   \n",
       "23997       True  False  False  False  False      False     False  False   \n",
       "23998       True  False  False  False  False      False     False  False   \n",
       "23999       True  False  False  False  False      False     False  False   \n",
       "\n",
       "        time  timestamp_count  \n",
       "30991  False            False  \n",
       "30072  False            False  \n",
       "30066  False            False  \n",
       "30067  False            False  \n",
       "30068  False            False  \n",
       "...      ...              ...  \n",
       "23995   True             True  \n",
       "23996   True             True  \n",
       "23997   True             True  \n",
       "23998   True             True  \n",
       "23999   True             True  \n",
       "\n",
       "[32000 rows x 10 columns]"
      ]
     },
     "execution_count": 101,
     "metadata": {},
     "output_type": "execute_result"
    }
   ],
   "source": [
    "df.isnull()\n"
   ]
  },
  {
   "cell_type": "code",
   "execution_count": 102,
   "metadata": {},
   "outputs": [
    {
     "data": {
      "text/plain": [
       "timestamp           6207\n",
       "info                   0\n",
       "error                  0\n",
       "debug                  0\n",
       "warn                   0\n",
       "exception              0\n",
       "filename               0\n",
       "line                   0\n",
       "time               26732\n",
       "timestamp_count     6207\n",
       "dtype: int64"
      ]
     },
     "execution_count": 102,
     "metadata": {},
     "output_type": "execute_result"
    }
   ],
   "source": [
    "df.isnull().sum()\n"
   ]
  },
  {
   "cell_type": "code",
   "execution_count": 103,
   "metadata": {},
   "outputs": [],
   "source": [
    "#sns.heatmap(excel_data.isnull(), yticklabels==False)\n"
   ]
  },
  {
   "cell_type": "code",
   "execution_count": 104,
   "metadata": {},
   "outputs": [
    {
     "data": {
      "text/plain": [
       "<matplotlib.axes._subplots.AxesSubplot at 0x7ff1f062e048>"
      ]
     },
     "execution_count": 104,
     "metadata": {},
     "output_type": "execute_result"
    },
    {
     "data": {
      "image/png": "[encoded data removed]",
      "text/plain": [
       "<Figure size 432x288 with 2 Axes>"
      ]
     },
     "metadata": {
      "needs_background": "light"
     },
     "output_type": "display_data"
    }
   ],
   "source": [
    "sns.heatmap(df.isnull(), cmap=\"viridis\")\n"
   ]
  },
  {
   "cell_type": "code",
   "execution_count": 105,
   "metadata": {},
   "outputs": [
    {
     "data": {
      "text/plain": [
       "<matplotlib.axes._subplots.AxesSubplot at 0x7ff1f05f76a0>"
      ]
     },
     "execution_count": 105,
     "metadata": {},
     "output_type": "execute_result"
    },
    {
     "data": {
      "image/png": "[encoded data removed]",
      "text/plain": [
       "<Figure size 432x288 with 1 Axes>"
      ]
     },
     "metadata": {
      "needs_background": "light"
     },
     "output_type": "display_data"
    }
   ],
   "source": [
    "sns.boxplot(x=\"error\", y=\"exception\", data=df)\n"
   ]
  },
  {
   "cell_type": "code",
   "execution_count": 106,
   "metadata": {},
   "outputs": [
    {
     "data": {
      "text/plain": [
       "timestamp           6207\n",
       "info                   0\n",
       "error                  0\n",
       "debug                  0\n",
       "warn                   0\n",
       "exception              0\n",
       "filename               0\n",
       "line                   0\n",
       "time               26732\n",
       "timestamp_count     6207\n",
       "dtype: int64"
      ]
     },
     "execution_count": 106,
     "metadata": {},
     "output_type": "execute_result"
    }
   ],
   "source": [
    "# either drop that row or fill some value where value is null\n",
    "df.head(5)\n",
    "df.isnull().sum()\n"
   ]
  },
  {
   "cell_type": "code",
   "execution_count": 107,
   "metadata": {},
   "outputs": [
    {
     "data": {
      "text/plain": [
       "<matplotlib.axes._subplots.AxesSubplot at 0x7ff1efacdba8>"
      ]
     },
     "execution_count": 107,
     "metadata": {},
     "output_type": "execute_result"
    },
    {
     "data": {
      "image/png": "[encoded data removed]",
      "text/plain": [
       "<Figure size 432x288 with 1 Axes>"
      ]
     },
     "metadata": {
      "needs_background": "light"
     },
     "output_type": "display_data"
    }
   ],
   "source": [
    "sns.heatmap(df.isnull(), yticklabels=False, cbar=False)\n"
   ]
  },
  {
   "cell_type": "code",
   "execution_count": 108,
   "metadata": {},
   "outputs": [
    {
     "data": {
      "text/plain": [
       "<matplotlib.axes._subplots.AxesSubplot at 0x7ff1f188c6a0>"
      ]
     },
     "execution_count": 108,
     "metadata": {},
     "output_type": "execute_result"
    },
    {
     "data": {
      "image/png": "[encoded data removed]",
      "text/plain": [
       "<Figure size 432x288 with 1 Axes>"
      ]
     },
     "metadata": {
      "needs_background": "light"
     },
     "output_type": "display_data"
    }
   ],
   "source": [
    "df.drop(\"line\", axis=1, inplace=True)\n",
    "sns.heatmap(excel_data.isnull(), yticklabels=False, cbar=False)\n"
   ]
  },
  {
   "cell_type": "code",
   "execution_count": 109,
   "metadata": {},
   "outputs": [
    {
     "data": {
      "text/plain": [
       "timestamp           6207\n",
       "info                   0\n",
       "error                  0\n",
       "debug                  0\n",
       "warn                   0\n",
       "exception              0\n",
       "filename               0\n",
       "time               26732\n",
       "timestamp_count     6207\n",
       "dtype: int64"
      ]
     },
     "execution_count": 109,
     "metadata": {},
     "output_type": "execute_result"
    }
   ],
   "source": [
    "df.isnull().sum()\n"
   ]
  },
  {
   "cell_type": "markdown",
   "metadata": {},
   "source": [
    "### hold column values in variable\n"
   ]
  },
  {
   "cell_type": "code",
   "execution_count": 110,
   "metadata": {},
   "outputs": [],
   "source": [
    "info=pd.get_dummies(df['info'])"
   ]
  },
  {
   "cell_type": "code",
   "execution_count": 111,
   "metadata": {},
   "outputs": [
    {
     "data": {
      "text/html": [
       "<div>\n",
       "<style scoped>\n",
       "    .dataframe tbody tr th:only-of-type {\n",
       "        vertical-align: middle;\n",
       "    }\n",
       "\n",
       "    .dataframe tbody tr th {\n",
       "        vertical-align: top;\n",
       "    }\n",
       "\n",
       "    .dataframe thead th {\n",
       "        text-align: right;\n",
       "    }\n",
       "</style>\n",
       "<table border=\"1\" class=\"dataframe\">\n",
       "  <thead>\n",
       "    <tr style=\"text-align: right;\">\n",
       "      <th></th>\n",
       "      <th>timestamp</th>\n",
       "      <th>info</th>\n",
       "      <th>error</th>\n",
       "      <th>debug</th>\n",
       "      <th>warn</th>\n",
       "      <th>exception</th>\n",
       "      <th>filename</th>\n",
       "      <th>time</th>\n",
       "      <th>timestamp_count</th>\n",
       "      <th>0</th>\n",
       "      <th>1</th>\n",
       "    </tr>\n",
       "  </thead>\n",
       "  <tbody>\n",
       "    <tr>\n",
       "      <th>30991</th>\n",
       "      <td>20:10</td>\n",
       "      <td>1</td>\n",
       "      <td>0</td>\n",
       "      <td>0</td>\n",
       "      <td>0</td>\n",
       "      <td>0</td>\n",
       "      <td>Spark.log</td>\n",
       "      <td>-2.208988e+09</td>\n",
       "      <td>1101.0</td>\n",
       "      <td>0</td>\n",
       "      <td>1</td>\n",
       "    </tr>\n",
       "    <tr>\n",
       "      <th>30072</th>\n",
       "      <td>20:10</td>\n",
       "      <td>1</td>\n",
       "      <td>0</td>\n",
       "      <td>0</td>\n",
       "      <td>0</td>\n",
       "      <td>0</td>\n",
       "      <td>Spark.log</td>\n",
       "      <td>-2.208988e+09</td>\n",
       "      <td>1101.0</td>\n",
       "      <td>0</td>\n",
       "      <td>1</td>\n",
       "    </tr>\n",
       "    <tr>\n",
       "      <th>30066</th>\n",
       "      <td>20:10</td>\n",
       "      <td>1</td>\n",
       "      <td>0</td>\n",
       "      <td>0</td>\n",
       "      <td>0</td>\n",
       "      <td>0</td>\n",
       "      <td>Spark.log</td>\n",
       "      <td>-2.208988e+09</td>\n",
       "      <td>1101.0</td>\n",
       "      <td>0</td>\n",
       "      <td>1</td>\n",
       "    </tr>\n",
       "    <tr>\n",
       "      <th>30067</th>\n",
       "      <td>20:10</td>\n",
       "      <td>1</td>\n",
       "      <td>0</td>\n",
       "      <td>0</td>\n",
       "      <td>0</td>\n",
       "      <td>0</td>\n",
       "      <td>Spark.log</td>\n",
       "      <td>-2.208988e+09</td>\n",
       "      <td>1101.0</td>\n",
       "      <td>0</td>\n",
       "      <td>1</td>\n",
       "    </tr>\n",
       "    <tr>\n",
       "      <th>30068</th>\n",
       "      <td>20:10</td>\n",
       "      <td>1</td>\n",
       "      <td>0</td>\n",
       "      <td>0</td>\n",
       "      <td>0</td>\n",
       "      <td>0</td>\n",
       "      <td>Spark.log</td>\n",
       "      <td>-2.208988e+09</td>\n",
       "      <td>1101.0</td>\n",
       "      <td>0</td>\n",
       "      <td>1</td>\n",
       "    </tr>\n",
       "  </tbody>\n",
       "</table>\n",
       "</div>"
      ],
      "text/plain": [
       "      timestamp  info  error  debug  warn  exception   filename          time  \\\n",
       "30991     20:10     1      0      0     0          0  Spark.log -2.208988e+09   \n",
       "30072     20:10     1      0      0     0          0  Spark.log -2.208988e+09   \n",
       "30066     20:10     1      0      0     0          0  Spark.log -2.208988e+09   \n",
       "30067     20:10     1      0      0     0          0  Spark.log -2.208988e+09   \n",
       "30068     20:10     1      0      0     0          0  Spark.log -2.208988e+09   \n",
       "\n",
       "       timestamp_count  0  1  \n",
       "30991           1101.0  0  1  \n",
       "30072           1101.0  0  1  \n",
       "30066           1101.0  0  1  \n",
       "30067           1101.0  0  1  \n",
       "30068           1101.0  0  1  "
      ]
     },
     "execution_count": 111,
     "metadata": {},
     "output_type": "execute_result"
    }
   ],
   "source": [
    "df = pd.concat([df, info], axis=1)\n"
   ]
  },
  {
   "cell_type": "code",
   "execution_count": 113,
   "metadata": {},
   "outputs": [
    {
     "ename": "KeyError",
     "evalue": "\"['info'] not found in axis\"",
     "output_type": "error",
     "traceback": [
      "\u001b[0;31m---------------------------------------------------------------------------\u001b[0m",
      "\u001b[0;31mKeyError\u001b[0m                                  Traceback (most recent call last)",
      "\u001b[0;32m<ipython-input-113-c48d9e174476>\u001b[0m in \u001b[0;36m<module>\u001b[0;34m\u001b[0m\n\u001b[0;32m----> 1\u001b[0;31m \u001b[0mdf\u001b[0m\u001b[0;34m.\u001b[0m\u001b[0mdrop\u001b[0m\u001b[0;34m(\u001b[0m\u001b[0;34m[\u001b[0m\u001b[0;34m'info'\u001b[0m\u001b[0;34m]\u001b[0m\u001b[0;34m,\u001b[0m \u001b[0maxis\u001b[0m\u001b[0;34m=\u001b[0m\u001b[0;32mTrue\u001b[0m\u001b[0;34m,\u001b[0m \u001b[0minplace\u001b[0m\u001b[0;34m=\u001b[0m\u001b[0;32mTrue\u001b[0m\u001b[0;34m)\u001b[0m\u001b[0;34m\u001b[0m\u001b[0;34m\u001b[0m\u001b[0m\n\u001b[0m\u001b[1;32m      2\u001b[0m \u001b[0mdf\u001b[0m\u001b[0;34m.\u001b[0m\u001b[0mdrop\u001b[0m\u001b[0;34m(\u001b[0m\u001b[0;34m\"filename\"\u001b[0m\u001b[0;34m,\u001b[0m \u001b[0maxis\u001b[0m\u001b[0;34m=\u001b[0m\u001b[0;36m1\u001b[0m\u001b[0;34m,\u001b[0m \u001b[0minplace\u001b[0m\u001b[0;34m=\u001b[0m\u001b[0;32mTrue\u001b[0m\u001b[0;34m)\u001b[0m\u001b[0;34m\u001b[0m\u001b[0;34m\u001b[0m\u001b[0m\n\u001b[1;32m      3\u001b[0m \u001b[0mdf\u001b[0m\u001b[0;34m.\u001b[0m\u001b[0mhead\u001b[0m\u001b[0;34m(\u001b[0m\u001b[0;36m5\u001b[0m\u001b[0;34m)\u001b[0m\u001b[0;34m\u001b[0m\u001b[0;34m\u001b[0m\u001b[0m\n",
      "\u001b[0;32m/opt/conda/lib/python3.7/site-packages/pandas/core/frame.py\u001b[0m in \u001b[0;36mdrop\u001b[0;34m(self, labels, axis, index, columns, level, inplace, errors)\u001b[0m\n\u001b[1;32m   4115\u001b[0m             \u001b[0mlevel\u001b[0m\u001b[0;34m=\u001b[0m\u001b[0mlevel\u001b[0m\u001b[0;34m,\u001b[0m\u001b[0;34m\u001b[0m\u001b[0;34m\u001b[0m\u001b[0m\n\u001b[1;32m   4116\u001b[0m             \u001b[0minplace\u001b[0m\u001b[0;34m=\u001b[0m\u001b[0minplace\u001b[0m\u001b[0;34m,\u001b[0m\u001b[0;34m\u001b[0m\u001b[0;34m\u001b[0m\u001b[0m\n\u001b[0;32m-> 4117\u001b[0;31m             \u001b[0merrors\u001b[0m\u001b[0;34m=\u001b[0m\u001b[0merrors\u001b[0m\u001b[0;34m,\u001b[0m\u001b[0;34m\u001b[0m\u001b[0;34m\u001b[0m\u001b[0m\n\u001b[0m\u001b[1;32m   4118\u001b[0m         )\n\u001b[1;32m   4119\u001b[0m \u001b[0;34m\u001b[0m\u001b[0m\n",
      "\u001b[0;32m/opt/conda/lib/python3.7/site-packages/pandas/core/generic.py\u001b[0m in \u001b[0;36mdrop\u001b[0;34m(self, labels, axis, index, columns, level, inplace, errors)\u001b[0m\n\u001b[1;32m   3912\u001b[0m         \u001b[0;32mfor\u001b[0m \u001b[0maxis\u001b[0m\u001b[0;34m,\u001b[0m \u001b[0mlabels\u001b[0m \u001b[0;32min\u001b[0m \u001b[0maxes\u001b[0m\u001b[0;34m.\u001b[0m\u001b[0mitems\u001b[0m\u001b[0;34m(\u001b[0m\u001b[0;34m)\u001b[0m\u001b[0;34m:\u001b[0m\u001b[0;34m\u001b[0m\u001b[0;34m\u001b[0m\u001b[0m\n\u001b[1;32m   3913\u001b[0m             \u001b[0;32mif\u001b[0m \u001b[0mlabels\u001b[0m \u001b[0;32mis\u001b[0m \u001b[0;32mnot\u001b[0m \u001b[0;32mNone\u001b[0m\u001b[0;34m:\u001b[0m\u001b[0;34m\u001b[0m\u001b[0;34m\u001b[0m\u001b[0m\n\u001b[0;32m-> 3914\u001b[0;31m                 \u001b[0mobj\u001b[0m \u001b[0;34m=\u001b[0m \u001b[0mobj\u001b[0m\u001b[0;34m.\u001b[0m\u001b[0m_drop_axis\u001b[0m\u001b[0;34m(\u001b[0m\u001b[0mlabels\u001b[0m\u001b[0;34m,\u001b[0m \u001b[0maxis\u001b[0m\u001b[0;34m,\u001b[0m \u001b[0mlevel\u001b[0m\u001b[0;34m=\u001b[0m\u001b[0mlevel\u001b[0m\u001b[0;34m,\u001b[0m \u001b[0merrors\u001b[0m\u001b[0;34m=\u001b[0m\u001b[0merrors\u001b[0m\u001b[0;34m)\u001b[0m\u001b[0;34m\u001b[0m\u001b[0;34m\u001b[0m\u001b[0m\n\u001b[0m\u001b[1;32m   3915\u001b[0m \u001b[0;34m\u001b[0m\u001b[0m\n\u001b[1;32m   3916\u001b[0m         \u001b[0;32mif\u001b[0m \u001b[0minplace\u001b[0m\u001b[0;34m:\u001b[0m\u001b[0;34m\u001b[0m\u001b[0;34m\u001b[0m\u001b[0m\n",
      "\u001b[0;32m/opt/conda/lib/python3.7/site-packages/pandas/core/generic.py\u001b[0m in \u001b[0;36m_drop_axis\u001b[0;34m(self, labels, axis, level, errors)\u001b[0m\n\u001b[1;32m   3944\u001b[0m                 \u001b[0mnew_axis\u001b[0m \u001b[0;34m=\u001b[0m \u001b[0maxis\u001b[0m\u001b[0;34m.\u001b[0m\u001b[0mdrop\u001b[0m\u001b[0;34m(\u001b[0m\u001b[0mlabels\u001b[0m\u001b[0;34m,\u001b[0m \u001b[0mlevel\u001b[0m\u001b[0;34m=\u001b[0m\u001b[0mlevel\u001b[0m\u001b[0;34m,\u001b[0m \u001b[0merrors\u001b[0m\u001b[0;34m=\u001b[0m\u001b[0merrors\u001b[0m\u001b[0;34m)\u001b[0m\u001b[0;34m\u001b[0m\u001b[0;34m\u001b[0m\u001b[0m\n\u001b[1;32m   3945\u001b[0m             \u001b[0;32melse\u001b[0m\u001b[0;34m:\u001b[0m\u001b[0;34m\u001b[0m\u001b[0;34m\u001b[0m\u001b[0m\n\u001b[0;32m-> 3946\u001b[0;31m                 \u001b[0mnew_axis\u001b[0m \u001b[0;34m=\u001b[0m \u001b[0maxis\u001b[0m\u001b[0;34m.\u001b[0m\u001b[0mdrop\u001b[0m\u001b[0;34m(\u001b[0m\u001b[0mlabels\u001b[0m\u001b[0;34m,\u001b[0m \u001b[0merrors\u001b[0m\u001b[0;34m=\u001b[0m\u001b[0merrors\u001b[0m\u001b[0;34m)\u001b[0m\u001b[0;34m\u001b[0m\u001b[0;34m\u001b[0m\u001b[0m\n\u001b[0m\u001b[1;32m   3947\u001b[0m             \u001b[0mresult\u001b[0m \u001b[0;34m=\u001b[0m \u001b[0mself\u001b[0m\u001b[0;34m.\u001b[0m\u001b[0mreindex\u001b[0m\u001b[0;34m(\u001b[0m\u001b[0;34m**\u001b[0m\u001b[0;34m{\u001b[0m\u001b[0maxis_name\u001b[0m\u001b[0;34m:\u001b[0m \u001b[0mnew_axis\u001b[0m\u001b[0;34m}\u001b[0m\u001b[0;34m)\u001b[0m\u001b[0;34m\u001b[0m\u001b[0;34m\u001b[0m\u001b[0m\n\u001b[1;32m   3948\u001b[0m \u001b[0;34m\u001b[0m\u001b[0m\n",
      "\u001b[0;32m/opt/conda/lib/python3.7/site-packages/pandas/core/indexes/base.py\u001b[0m in \u001b[0;36mdrop\u001b[0;34m(self, labels, errors)\u001b[0m\n\u001b[1;32m   5338\u001b[0m         \u001b[0;32mif\u001b[0m \u001b[0mmask\u001b[0m\u001b[0;34m.\u001b[0m\u001b[0many\u001b[0m\u001b[0;34m(\u001b[0m\u001b[0;34m)\u001b[0m\u001b[0;34m:\u001b[0m\u001b[0;34m\u001b[0m\u001b[0;34m\u001b[0m\u001b[0m\n\u001b[1;32m   5339\u001b[0m             \u001b[0;32mif\u001b[0m \u001b[0merrors\u001b[0m \u001b[0;34m!=\u001b[0m \u001b[0;34m\"ignore\"\u001b[0m\u001b[0;34m:\u001b[0m\u001b[0;34m\u001b[0m\u001b[0;34m\u001b[0m\u001b[0m\n\u001b[0;32m-> 5340\u001b[0;31m                 \u001b[0;32mraise\u001b[0m \u001b[0mKeyError\u001b[0m\u001b[0;34m(\u001b[0m\u001b[0;34m\"{} not found in axis\"\u001b[0m\u001b[0;34m.\u001b[0m\u001b[0mformat\u001b[0m\u001b[0;34m(\u001b[0m\u001b[0mlabels\u001b[0m\u001b[0;34m[\u001b[0m\u001b[0mmask\u001b[0m\u001b[0;34m]\u001b[0m\u001b[0;34m)\u001b[0m\u001b[0;34m)\u001b[0m\u001b[0;34m\u001b[0m\u001b[0;34m\u001b[0m\u001b[0m\n\u001b[0m\u001b[1;32m   5341\u001b[0m             \u001b[0mindexer\u001b[0m \u001b[0;34m=\u001b[0m \u001b[0mindexer\u001b[0m\u001b[0;34m[\u001b[0m\u001b[0;34m~\u001b[0m\u001b[0mmask\u001b[0m\u001b[0;34m]\u001b[0m\u001b[0;34m\u001b[0m\u001b[0;34m\u001b[0m\u001b[0m\n\u001b[1;32m   5342\u001b[0m         \u001b[0;32mreturn\u001b[0m \u001b[0mself\u001b[0m\u001b[0;34m.\u001b[0m\u001b[0mdelete\u001b[0m\u001b[0;34m(\u001b[0m\u001b[0mindexer\u001b[0m\u001b[0;34m)\u001b[0m\u001b[0;34m\u001b[0m\u001b[0;34m\u001b[0m\u001b[0m\n",
      "\u001b[0;31mKeyError\u001b[0m: \"['info'] not found in axis\""
     ]
    }
   ],
   "source": [
    "df.drop(['info'], axis=True, inplace=True)\n",
    "df.drop(\"filename\", axis=1, inplace=True)"
   ]
  },
  {
   "cell_type": "code",
   "execution_count": 114,
   "metadata": {},
   "outputs": [
    {
     "data": {
      "text/html": [
       "<div>\n",
       "<style scoped>\n",
       "    .dataframe tbody tr th:only-of-type {\n",
       "        vertical-align: middle;\n",
       "    }\n",
       "\n",
       "    .dataframe tbody tr th {\n",
       "        vertical-align: top;\n",
       "    }\n",
       "\n",
       "    .dataframe thead th {\n",
       "        text-align: right;\n",
       "    }\n",
       "</style>\n",
       "<table border=\"1\" class=\"dataframe\">\n",
       "  <thead>\n",
       "    <tr style=\"text-align: right;\">\n",
       "      <th></th>\n",
       "      <th>timestamp</th>\n",
       "      <th>error</th>\n",
       "      <th>debug</th>\n",
       "      <th>warn</th>\n",
       "      <th>exception</th>\n",
       "      <th>time</th>\n",
       "      <th>timestamp_count</th>\n",
       "      <th>0</th>\n",
       "      <th>1</th>\n",
       "    </tr>\n",
       "  </thead>\n",
       "  <tbody>\n",
       "    <tr>\n",
       "      <th>30991</th>\n",
       "      <td>20:10</td>\n",
       "      <td>0</td>\n",
       "      <td>0</td>\n",
       "      <td>0</td>\n",
       "      <td>0</td>\n",
       "      <td>-2.208988e+09</td>\n",
       "      <td>1101.0</td>\n",
       "      <td>0</td>\n",
       "      <td>1</td>\n",
       "    </tr>\n",
       "    <tr>\n",
       "      <th>30072</th>\n",
       "      <td>20:10</td>\n",
       "      <td>0</td>\n",
       "      <td>0</td>\n",
       "      <td>0</td>\n",
       "      <td>0</td>\n",
       "      <td>-2.208988e+09</td>\n",
       "      <td>1101.0</td>\n",
       "      <td>0</td>\n",
       "      <td>1</td>\n",
       "    </tr>\n",
       "    <tr>\n",
       "      <th>30066</th>\n",
       "      <td>20:10</td>\n",
       "      <td>0</td>\n",
       "      <td>0</td>\n",
       "      <td>0</td>\n",
       "      <td>0</td>\n",
       "      <td>-2.208988e+09</td>\n",
       "      <td>1101.0</td>\n",
       "      <td>0</td>\n",
       "      <td>1</td>\n",
       "    </tr>\n",
       "    <tr>\n",
       "      <th>30067</th>\n",
       "      <td>20:10</td>\n",
       "      <td>0</td>\n",
       "      <td>0</td>\n",
       "      <td>0</td>\n",
       "      <td>0</td>\n",
       "      <td>-2.208988e+09</td>\n",
       "      <td>1101.0</td>\n",
       "      <td>0</td>\n",
       "      <td>1</td>\n",
       "    </tr>\n",
       "    <tr>\n",
       "      <th>30068</th>\n",
       "      <td>20:10</td>\n",
       "      <td>0</td>\n",
       "      <td>0</td>\n",
       "      <td>0</td>\n",
       "      <td>0</td>\n",
       "      <td>-2.208988e+09</td>\n",
       "      <td>1101.0</td>\n",
       "      <td>0</td>\n",
       "      <td>1</td>\n",
       "    </tr>\n",
       "  </tbody>\n",
       "</table>\n",
       "</div>"
      ],
      "text/plain": [
       "      timestamp  error  debug  warn  exception          time  timestamp_count  \\\n",
       "30991     20:10      0      0     0          0 -2.208988e+09           1101.0   \n",
       "30072     20:10      0      0     0          0 -2.208988e+09           1101.0   \n",
       "30066     20:10      0      0     0          0 -2.208988e+09           1101.0   \n",
       "30067     20:10      0      0     0          0 -2.208988e+09           1101.0   \n",
       "30068     20:10      0      0     0          0 -2.208988e+09           1101.0   \n",
       "\n",
       "       0  1  \n",
       "30991  0  1  \n",
       "30072  0  1  \n",
       "30066  0  1  \n",
       "30067  0  1  \n",
       "30068  0  1  "
      ]
     },
     "execution_count": 114,
     "metadata": {},
     "output_type": "execute_result"
    }
   ],
   "source": [
    "df.head(5)\n"
   ]
  },
  {
   "cell_type": "markdown",
   "metadata": {},
   "source": [
    "#  Train and Test"
   ]
  },
  {
   "cell_type": "code",
   "execution_count": 57,
   "metadata": {},
   "outputs": [],
   "source": [
    "X = df.drop(\"error\", axis=1)\n",
    "y = df[\"error\"]"
   ]
  },
  {
   "cell_type": "code",
   "execution_count": 58,
   "metadata": {},
   "outputs": [],
   "source": [
    "#from sklearn.cross_validation import train_test_split\n",
    "from sklearn.model_selection import train_test_split"
   ]
  },
  {
   "cell_type": "code",
   "execution_count": 59,
   "metadata": {},
   "outputs": [],
   "source": [
    "X_train, X_test, y_train, y_test = train_test_split(X, y, test_size=0.33, random_state=1)"
   ]
  },
  {
   "cell_type": "code",
   "execution_count": 60,
   "metadata": {},
   "outputs": [],
   "source": [
    "from sklearn.linear_model import LogisticRegression\n",
    "logmodel = LogisticRegression()"
   ]
  },
  {
   "cell_type": "code",
   "execution_count": 61,
   "metadata": {},
   "outputs": [
    {
     "data": {
      "text/plain": [
       "LogisticRegression()"
      ]
     },
     "execution_count": 61,
     "metadata": {},
     "output_type": "execute_result"
    }
   ],
   "source": [
    "logmodel.fit(X_train, y_train)\n"
   ]
  },
  {
   "cell_type": "code",
   "execution_count": 62,
   "metadata": {},
   "outputs": [],
   "source": [
    "predictions = logmodel.predict(X_test)"
   ]
  },
  {
   "cell_type": "code",
   "execution_count": 63,
   "metadata": {},
   "outputs": [
    {
     "name": "stderr",
     "output_type": "stream",
     "text": [
      "/Users/raviranjan/Documents/workspace/lanier-goat/venv3/lib/python3.8/site-packages/sklearn/metrics/_classification.py:1248: UndefinedMetricWarning: Precision and F-score are ill-defined and being set to 0.0 in labels with no predicted samples. Use `zero_division` parameter to control this behavior.\n",
      "  _warn_prf(average, modifier, msg_start, len(result))\n",
      "/Users/raviranjan/Documents/workspace/lanier-goat/venv3/lib/python3.8/site-packages/sklearn/metrics/_classification.py:1248: UndefinedMetricWarning: Precision and F-score are ill-defined and being set to 0.0 in labels with no predicted samples. Use `zero_division` parameter to control this behavior.\n",
      "  _warn_prf(average, modifier, msg_start, len(result))\n",
      "/Users/raviranjan/Documents/workspace/lanier-goat/venv3/lib/python3.8/site-packages/sklearn/metrics/_classification.py:1248: UndefinedMetricWarning: Precision and F-score are ill-defined and being set to 0.0 in labels with no predicted samples. Use `zero_division` parameter to control this behavior.\n",
      "  _warn_prf(average, modifier, msg_start, len(result))\n"
     ]
    },
    {
     "data": {
      "text/plain": [
       "'              precision    recall  f1-score   support\\n\\n           0       0.93      1.00      0.97      9870\\n           1       0.00      0.00      0.00       690\\n\\n    accuracy                           0.93     10560\\n   macro avg       0.47      0.50      0.48     10560\\nweighted avg       0.87      0.93      0.90     10560\\n'"
      ]
     },
     "execution_count": 63,
     "metadata": {},
     "output_type": "execute_result"
    }
   ],
   "source": [
    "from sklearn.metrics import classification_report\n",
    "classification_report(y_test, predictions)\n"
   ]
  },
  {
   "cell_type": "code",
   "execution_count": 64,
   "metadata": {},
   "outputs": [
    {
     "data": {
      "text/plain": [
       "array([[9870,    0],\n",
       "       [ 690,    0]])"
      ]
     },
     "execution_count": 64,
     "metadata": {},
     "output_type": "execute_result"
    }
   ],
   "source": [
    "from sklearn.metrics import confusion_matrix\n",
    "confusion_matrix(y_test, predictions)\n"
   ]
  },
  {
   "cell_type": "code",
   "execution_count": 65,
   "metadata": {
    "scrolled": true
   },
   "outputs": [
    {
     "data": {
      "text/plain": [
       "0.9346590909090909"
      ]
     },
     "execution_count": 65,
     "metadata": {},
     "output_type": "execute_result"
    }
   ],
   "source": [
    "from sklearn.metrics import accuracy_score\n",
    "accuracy_score(y_test, predictions)\n"
   ]
  },
  {
   "cell_type": "markdown",
   "metadata": {},
   "source": [
    "#  Collecting Data\n"
   ]
  },
  {
   "cell_type": "code",
   "execution_count": null,
   "metadata": {},
   "outputs": [],
   "source": []
  },
  {
   "cell_type": "code",
   "execution_count": null,
   "metadata": {},
   "outputs": [],
   "source": []
  },
  {
   "cell_type": "code",
   "execution_count": null,
   "metadata": {},
   "outputs": [],
   "source": []
  },
  {
   "cell_type": "markdown",
   "metadata": {},
   "source": [
    "# Accuracy Check\n"
   ]
  },
  {
   "cell_type": "code",
   "execution_count": null,
   "metadata": {},
   "outputs": [],
   "source": []
  }
 ],
 "metadata": {
  "kernelspec": {
   "display_name": "Python 3",
   "language": "python",
   "name": "python3"
  },
  "language_info": {
   "codemirror_mode": {
    "name": "ipython",
    "version": 3
   },
   "file_extension": ".py",
   "mimetype": "text/x-python",
   "name": "python",
   "nbconvert_exporter": "python",
   "pygments_lexer": "ipython3",
   "version": "3.7.3"
  }
 },
 "nbformat": 4,
 "nbformat_minor": 2
}
