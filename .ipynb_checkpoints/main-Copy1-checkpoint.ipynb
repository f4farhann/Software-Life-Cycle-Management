{
 "cells": [
  {
   "cell_type": "markdown",
   "metadata": {},
   "source": [
    "# Implementation of Knowledge Based SDDC LCM. "
   ]
  },
  {
   "cell_type": "markdown",
   "metadata": {},
   "source": [
    "#### Proposing a Knowledge Based Life Cycle Management method for the Infrastructure Components and the Applications in the Scaled Hyper Converged Software Defined Data Centers is a project to manage life cycle Management (LCM) software which will look for “Best Window time” or “best time” to perform Life Cycle Management.  So that the Administrator can perform LCM whenever upgrade or patch is available for any entity (Application or Infrastructure component) .  This will help avoid any risk because of ongoing  upgrades or patches "
   ]
  },
  {
   "cell_type": "markdown",
   "metadata": {},
   "source": [
    "### Import Library"
   ]
  },
  {
   "cell_type": "code",
   "execution_count": 1,
   "metadata": {},
   "outputs": [],
   "source": [
    "import os\n",
    "import pandas as pd\n",
    "import numpy as np\n",
    "import seaborn as sns\n",
    "import matplotlib.pyplot as plt\n",
    "%matplotlib inline\n",
    "import math\n",
    "import re\n",
    "import time\n",
    "from time import strftime\n",
    "from utils import util\n"
   ]
  },
  {
   "cell_type": "markdown",
   "metadata": {},
   "source": [
    "### configure spark variables "
   ]
  },
  {
   "cell_type": "code",
   "execution_count": 2,
   "metadata": {},
   "outputs": [],
   "source": [
    "__author__ = 'raviranjan'\n",
    "\n",
    "#from pyspark import SparkConf, SparkContext\n",
    "#from pyspark.context import SparkContext\n",
    "#from pyspark.sql.context import SQLContext\n",
    "#from pyspark.sql.session import SparkSession\n",
    "   \n",
    "#sc = SparkContext()\n",
    "#sqlContext = SQLContext(sc)\n",
    "#spark = SparkSession(sc)"
   ]
  },
  {
   "cell_type": "markdown",
   "metadata": {},
   "source": [
    "### Define variables contants"
   ]
  },
  {
   "cell_type": "code",
   "execution_count": 3,
   "metadata": {},
   "outputs": [],
   "source": [
    "LOG_DIR = \"logs\"\n",
    "TIME_STAMP_PATTERN = \"^(2[0-3]|[01]?[0-9]):(0[1-9]{1}|[1-5]{1}[0-9]):(0[1-9]{1}|[1-5]{1}[0-9])$\"\n",
    "HOST_PATTERN = r'(^\\S+\\.[\\S+\\.]+\\S+)\\s'\n",
    "LOGGER_FILE_PATTERN = r'(^\\S+\\.[\\S+\\.]+\\S+)\\s'\n",
    "ERROR_PATTERN = 'ERROR:'\n",
    "INFO_PATTERN = 'INFO:'\n",
    "DEBUG_PATTERN = 'DEBUG:'\n",
    "time_stamp_pattern = r'\\[(\\d{2}/\\w{3}/\\d{4}:\\d{2}:\\d{2}:\\d{2} -\\d{4})]'\n",
    "host_pattern = r'(^\\S+\\.[\\S+\\.]+\\S+)\\s'\n",
    "logger_file_pattern = r'(^\\S+\\.[\\S+\\.]+\\S+)\\s'\n",
    "has_error_pattern = r''\n",
    "excel_file_path = \"data/excel_data_1.xlsx\"\n",
    "\n"
   ]
  },
  {
   "cell_type": "markdown",
   "metadata": {},
   "source": [
    "# Create a util class"
   ]
  },
  {
   "cell_type": "code",
   "execution_count": 4,
   "metadata": {},
   "outputs": [],
   "source": [
    "import re\n",
    "import os\n",
    "import time\n",
    "from time import strftime\n",
    "\n",
    "\n",
    "def export_to_file(dict_with_list_values=None, export_file_path=None, export_folder=None):\n",
    "    \"\"\"\n",
    "    dict_with_list_values = {'Brand': ['Honda Civic','Toyota Corolla','Ford Focus','Audi A4'],\n",
    "        'Price': [32000,35000,37000,45000]\n",
    "        }\n",
    "    :param export_folder:\n",
    "    :param dict_with_list_values:\n",
    "    :param create_dict_from_list:\n",
    "    :param column_name\n",
    "    :return:\n",
    "    \"\"\"\n",
    "    if not export_file_path:\n",
    "        time_now = str(strftime(\"%Y-%m-%d %H-%M-%S\", time.localtime()))\n",
    "        export_file_path = export_folder + \"/\" + time_now + \".xlsx\"\n",
    "    columns = dict_with_list_values.keys()\n",
    "    print('Exporting columns %s to %s' % (columns, export_file_path))\n",
    "    import pandas as pd\n",
    "    df = pd.DataFrame(dict_with_list_values, columns=columns)\n",
    "    df.to_excel(export_file_path, index=False, header=True)\n",
    "    print(export_file_path)\n",
    "    return export_file_path\n",
    "\n",
    "\n",
    "def get_data_to_export(log_files, column_names=['timestamp', 'info', 'error', 'debug', 'warn', 'exception', 'filename', 'line'], add_time_stamp=True):\n",
    "    excel_export_data = {\n",
    "    }\n",
    "    for column_name in column_names:\n",
    "        excel_export_data[column_name] = []\n",
    "    print(\"Define column %s\" % excel_export_data)\n",
    "    for log_file in log_files:\n",
    "        with open(log_file) as f:\n",
    "            for line in f:\n",
    "                one_row_values = {} # store one row value with key as column name and its value\n",
    "                for column_name in column_names:\n",
    "                    column_name = column_name.lower()\n",
    "                    line = line.lower().strip()\n",
    "                    if column_name in line:\n",
    "                        cell_value = 1\n",
    "                    else:\n",
    "                        cell_value = 0\n",
    "                    if column_name == \"line\":\n",
    "                        cell_value = line\n",
    "                    if column_name == \"filename\":\n",
    "                        cell_value = log_file.split('/')[-1]\n",
    "                    if add_time_stamp and column_name == \"timestamp\":\n",
    "                        RE_COMPILE_TIME_STAMP_PATTERN = \"(24:00|2[0-3]:[0-5][0-9]|[0-1][0-9]:[0-5][0-9]:[0-5][0-9])\"\n",
    "                        cell_value = finditer_line(line, regex=RE_COMPILE_TIME_STAMP_PATTERN)\n",
    "\n",
    "                    # Final cell value for that column\n",
    "                    one_row_values[column_name] = cell_value\n",
    "\n",
    "                for column_name in one_row_values:\n",
    "                    # append the list value\n",
    "                    existing_one_column_values = excel_export_data[column_name]\n",
    "                    existing_one_column_values.append(one_row_values[column_name])\n",
    "                    excel_export_data[column_name] = existing_one_column_values\n",
    "    files = []\n",
    "    for log_file in log_files:\n",
    "        log_file = log_file.split('/')[-1]\n",
    "        files.append(log_file)\n",
    "    for column_name in column_names:\n",
    "        print(\"Total %s values for Column:%s in all log files\" % (len(excel_export_data[column_name]), column_name))\n",
    "\n",
    "    return excel_export_data\n",
    "\n",
    "\n",
    "def get_log_files(log_dir):\n",
    "    log_files = []\n",
    "    for root, dir_, files in os.walk(log_dir):\n",
    "        for sub_dir in dir_:\n",
    "            sub_dir_path = os.path.join(root, sub_dir)\n",
    "            # print(\"sub_dir: %s\" % sub_dir_path)\n",
    "            # os.system('ls %s' % sub_dir_path)\n",
    "        for f in files:\n",
    "            f_path = os.path.join(root, f)\n",
    "            if \".log\" in f_path:\n",
    "                log_files.append(f_path)\n",
    "    print(\"%s\" % (log_files))\n",
    "    return log_files\n",
    "\n",
    "\n",
    "def findall_(log_file, regex):\n",
    "    matched_lines = []\n",
    "    with open(log_file) as f:\n",
    "        # lines = f.readlines()\n",
    "        for line in f:\n",
    "            found = re.findall(regex, line)\n",
    "            if found:\n",
    "                matched_lines.append(line)\n",
    "        print(matched_lines)\n",
    "    return matched_lines\n",
    "\n",
    "\n",
    "def search_re(line, pattern=None):\n",
    "    # Python program to illustrate\n",
    "    # Matching regex objects\n",
    "    match = re.match(pattern, line)\n",
    "    if not match:\n",
    "        regex_com = re.compile(pattern)\n",
    "        match = regex_com.search(line)\n",
    "        if match:\n",
    "            value = match.group()\n",
    "            print('found using re.compile: %s' % value)\n",
    "            return value\n",
    "        else:\n",
    "            print('%s not Found using re.compile also:' % pattern)\n",
    "            return ''\n",
    "    else:\n",
    "        value = match.group()\n",
    "        print('Found using re.match: %s' % value)\n",
    "        return value\n",
    "\n",
    "\n",
    "def finditer_(log_file_path, regex, read_line=True):\n",
    "    \"\"\"\n",
    "    regex = '(<property name=\"(.*?)\">(.*?)<\\/property>)'\n",
    "    :param log_file_path:\n",
    "    :param regex:\n",
    "    :param read_line:\n",
    "    :param re_parse:\n",
    "    :return:\n",
    "    \"\"\"\n",
    "    with open(log_file_path, \"r\") as f:\n",
    "        match_list = []\n",
    "        if read_line:\n",
    "            for line in f:\n",
    "                for match in re.finditer(regex, line, re.S):\n",
    "                    match_text = match.group()\n",
    "                    match_list.append(match_text)\n",
    "        else:\n",
    "            data = f.read()\n",
    "            for match in re.finditer(regex, data, re.S):\n",
    "                match_text = match.group()\n",
    "                match_list.append(match_text)\n",
    "    f.close()\n",
    "    print(match_list)\n",
    "    return match_list\n",
    "\n",
    "\n",
    "def finditer_line(line, regex):\n",
    "    \"\"\"\n",
    "    regex = '(<property name=\"(.*?)\">(.*?)<\\/property>)'\n",
    "    :param log_file_path:\n",
    "    :param regex:\n",
    "    :param read_line:\n",
    "    :param re_parse:\n",
    "    :return:\n",
    "    \"\"\"\n",
    "    match_text = 'time Not Found'\n",
    "    for match in re.finditer(regex, line, re.S):\n",
    "        match_text = match.group()\n",
    "    return match_text\n"
   ]
  },
  {
   "cell_type": "markdown",
   "metadata": {},
   "source": [
    "### Get log files"
   ]
  },
  {
   "cell_type": "code",
   "execution_count": 5,
   "metadata": {},
   "outputs": [
    {
     "name": "stdout",
     "output_type": "stream",
     "text": [
      "['logs/HealthApp/HealthApp.log', 'logs/OpenStack/OpenStack.log', 'logs/OpenSSH/SSH.log', 'logs/Proxifier/Proxifier.log', 'logs/HPC/HPC.log', 'logs/Zookeeper/Zookeeper.log', 'logs/Mac/Mac.log', 'logs/Hadoop/Hadoop.log', 'logs/Linux/Linux.log', 'logs/Andriod/Andriod.log', 'logs/HDFS/HDFS.log', 'logs/BGL/BGL.log', 'logs/Windows/Windows.log', 'logs/Apache/Apache.log', 'logs/Thunderbird/Thunderbird.log', 'logs/Spark/Spark.log']\n"
     ]
    }
   ],
   "source": [
    "log_files = get_log_files(log_dir=LOG_DIR)"
   ]
  },
  {
   "cell_type": "markdown",
   "metadata": {},
   "source": [
    "### Get Data from logs and export to Excel "
   ]
  },
  {
   "cell_type": "code",
   "execution_count": 6,
   "metadata": {},
   "outputs": [
    {
     "name": "stdout",
     "output_type": "stream",
     "text": [
      "Define column {'timestamp': [], 'info': [], 'error': [], 'debug': [], 'warn': [], 'exception': [], 'filename': [], 'line': []}\n",
      "Total 32000 values for Column:timestamp in all log files\n",
      "Total 32000 values for Column:info in all log files\n",
      "Total 32000 values for Column:error in all log files\n",
      "Total 32000 values for Column:debug in all log files\n",
      "Total 32000 values for Column:warn in all log files\n",
      "Total 32000 values for Column:exception in all log files\n",
      "Total 32000 values for Column:filename in all log files\n",
      "Total 32000 values for Column:line in all log files\n"
     ]
    }
   ],
   "source": [
    "excel_export_data = get_data_to_export(log_files=log_files, column_names=['timestamp', 'info', 'error', 'debug', 'warn', 'exception', 'filename', 'line'])"
   ]
  },
  {
   "cell_type": "code",
   "execution_count": 17,
   "metadata": {},
   "outputs": [],
   "source": [
    "#export_to_file(dict_with_list_values=excel_export_data, export_file_path=excel_file_path)"
   ]
  },
  {
   "cell_type": "markdown",
   "metadata": {},
   "source": [
    "# Analyzing Data"
   ]
  },
  {
   "cell_type": "code",
   "execution_count": 18,
   "metadata": {},
   "outputs": [
    {
     "name": "stdout",
     "output_type": "stream",
     "text": [
      "data/excel_data_1.xlsx\n"
     ]
    },
    {
     "data": {
      "text/html": [
       "<div>\n",
       "<style scoped>\n",
       "    .dataframe tbody tr th:only-of-type {\n",
       "        vertical-align: middle;\n",
       "    }\n",
       "\n",
       "    .dataframe tbody tr th {\n",
       "        vertical-align: top;\n",
       "    }\n",
       "\n",
       "    .dataframe thead th {\n",
       "        text-align: right;\n",
       "    }\n",
       "</style>\n",
       "<table border=\"1\" class=\"dataframe\">\n",
       "  <thead>\n",
       "    <tr style=\"text-align: right;\">\n",
       "      <th></th>\n",
       "      <th>timestamp</th>\n",
       "      <th>info</th>\n",
       "      <th>error</th>\n",
       "      <th>debug</th>\n",
       "      <th>warn</th>\n",
       "      <th>exception</th>\n",
       "      <th>filename</th>\n",
       "      <th>line</th>\n",
       "    </tr>\n",
       "  </thead>\n",
       "  <tbody>\n",
       "    <tr>\n",
       "      <th>0</th>\n",
       "      <td>22:15</td>\n",
       "      <td>0</td>\n",
       "      <td>0</td>\n",
       "      <td>0</td>\n",
       "      <td>0</td>\n",
       "      <td>0</td>\n",
       "      <td>HealthApp.log</td>\n",
       "      <td>20171223-22:15:29:606|step_lsc|30002312|onstan...</td>\n",
       "    </tr>\n",
       "    <tr>\n",
       "      <th>1</th>\n",
       "      <td>22:15</td>\n",
       "      <td>0</td>\n",
       "      <td>0</td>\n",
       "      <td>0</td>\n",
       "      <td>0</td>\n",
       "      <td>0</td>\n",
       "      <td>HealthApp.log</td>\n",
       "      <td>20171223-22:15:29:615|step_lsc|30002312|onexte...</td>\n",
       "    </tr>\n",
       "    <tr>\n",
       "      <th>2</th>\n",
       "      <td>22:15</td>\n",
       "      <td>0</td>\n",
       "      <td>0</td>\n",
       "      <td>0</td>\n",
       "      <td>0</td>\n",
       "      <td>0</td>\n",
       "      <td>HealthApp.log</td>\n",
       "      <td>20171223-22:15:29:633|step_standreportreceiver...</td>\n",
       "    </tr>\n",
       "    <tr>\n",
       "      <th>3</th>\n",
       "      <td>22:15</td>\n",
       "      <td>0</td>\n",
       "      <td>0</td>\n",
       "      <td>0</td>\n",
       "      <td>0</td>\n",
       "      <td>0</td>\n",
       "      <td>HealthApp.log</td>\n",
       "      <td>20171223-22:15:29:635|step_lsc|30002312|proces...</td>\n",
       "    </tr>\n",
       "    <tr>\n",
       "      <th>4</th>\n",
       "      <td>22:15</td>\n",
       "      <td>0</td>\n",
       "      <td>0</td>\n",
       "      <td>0</td>\n",
       "      <td>0</td>\n",
       "      <td>0</td>\n",
       "      <td>HealthApp.log</td>\n",
       "      <td>20171223-22:15:29:635|step_standstepcounter|30...</td>\n",
       "    </tr>\n",
       "  </tbody>\n",
       "</table>\n",
       "</div>"
      ],
      "text/plain": [
       "  timestamp  info  error  debug  warn  exception       filename  \\\n",
       "0     22:15     0      0      0     0          0  HealthApp.log   \n",
       "1     22:15     0      0      0     0          0  HealthApp.log   \n",
       "2     22:15     0      0      0     0          0  HealthApp.log   \n",
       "3     22:15     0      0      0     0          0  HealthApp.log   \n",
       "4     22:15     0      0      0     0          0  HealthApp.log   \n",
       "\n",
       "                                                line  \n",
       "0  20171223-22:15:29:606|step_lsc|30002312|onstan...  \n",
       "1  20171223-22:15:29:615|step_lsc|30002312|onexte...  \n",
       "2  20171223-22:15:29:633|step_standreportreceiver...  \n",
       "3  20171223-22:15:29:635|step_lsc|30002312|proces...  \n",
       "4  20171223-22:15:29:635|step_standstepcounter|30...  "
      ]
     },
     "execution_count": 18,
     "metadata": {},
     "output_type": "execute_result"
    }
   ],
   "source": [
    "print(excel_file_path)\n",
    "excel_data = pd.read_excel(excel_file_path)\n",
    "excel_data.head(5)"
   ]
  },
  {
   "cell_type": "markdown",
   "metadata": {},
   "source": [
    "### Draw few plot\n"
   ]
  },
  {
   "cell_type": "code",
   "execution_count": 19,
   "metadata": {},
   "outputs": [
    {
     "name": "stdout",
     "output_type": "stream",
     "text": [
      "<class 'pandas.core.frame.DataFrame'>\n",
      "RangeIndex: 32000 entries, 0 to 31999\n",
      "Data columns (total 8 columns):\n",
      " #   Column     Non-Null Count  Dtype \n",
      "---  ------     --------------  ----- \n",
      " 0   timestamp  32000 non-null  object\n",
      " 1   info       32000 non-null  int64 \n",
      " 2   error      32000 non-null  int64 \n",
      " 3   debug      32000 non-null  int64 \n",
      " 4   warn       32000 non-null  int64 \n",
      " 5   exception  32000 non-null  int64 \n",
      " 6   filename   32000 non-null  object\n",
      " 7   line       32000 non-null  object\n",
      "dtypes: int64(5), object(3)\n",
      "memory usage: 2.0+ MB\n",
      "None\n"
     ]
    }
   ],
   "source": [
    "print((excel_data.info()))"
   ]
  },
  {
   "cell_type": "code",
   "execution_count": 20,
   "metadata": {},
   "outputs": [
    {
     "data": {
      "text/plain": [
       "<AxesSubplot:xlabel='error', ylabel='count'>"
      ]
     },
     "execution_count": 20,
     "metadata": {},
     "output_type": "execute_result"
    },
    {
     "data": {
      "image/png": "[encoded data removed]",
      "text/plain": [
       "<Figure size 432x288 with 1 Axes>"
      ]
     },
     "metadata": {
      "needs_background": "light"
     },
     "output_type": "display_data"
    }
   ],
   "source": [
    "# how many rows having error value\n",
    "sns.countplot(x=\"error\", data=excel_data)"
   ]
  },
  {
   "cell_type": "code",
   "execution_count": 21,
   "metadata": {},
   "outputs": [
    {
     "data": {
      "text/plain": [
       "<AxesSubplot:xlabel='exception', ylabel='count'>"
      ]
     },
     "execution_count": 21,
     "metadata": {},
     "output_type": "execute_result"
    },
    {
     "data": {
      "image/png": "[encoded data removed]",
      "text/plain": [
       "<Figure size 432x288 with 1 Axes>"
      ]
     },
     "metadata": {
      "needs_background": "light"
     },
     "output_type": "display_data"
    }
   ],
   "source": [
    "# how many rows having exception value\n",
    "sns.countplot(x=\"exception\", data=excel_data)"
   ]
  },
  {
   "cell_type": "code",
   "execution_count": 22,
   "metadata": {},
   "outputs": [
    {
     "data": {
      "text/plain": [
       "<AxesSubplot:xlabel='warn', ylabel='count'>"
      ]
     },
     "execution_count": 22,
     "metadata": {},
     "output_type": "execute_result"
    },
    {
     "data": {
      "image/png": "[encoded data removed]",
      "text/plain": [
       "<Figure size 432x288 with 1 Axes>"
      ]
     },
     "metadata": {
      "needs_background": "light"
     },
     "output_type": "display_data"
    }
   ],
   "source": [
    "# how many rows having warn value\n",
    "sns.countplot(x=\"warn\", data=excel_data)"
   ]
  },
  {
   "cell_type": "markdown",
   "metadata": {},
   "source": [
    "### Draw histogram "
   ]
  },
  {
   "cell_type": "code",
   "execution_count": 23,
   "metadata": {},
   "outputs": [
    {
     "data": {
      "text/plain": [
       "<AxesSubplot:ylabel='Frequency'>"
      ]
     },
     "execution_count": 23,
     "metadata": {},
     "output_type": "execute_result"
    },
    {
     "data": {
      "image/png": "[encoded data removed]",
      "text/plain": [
       "<Figure size 432x288 with 1 Axes>"
      ]
     },
     "metadata": {
      "needs_background": "light"
     },
     "output_type": "display_data"
    }
   ],
   "source": [
    "excel_data['error'].plot.hist()"
   ]
  },
  {
   "cell_type": "code",
   "execution_count": 24,
   "metadata": {},
   "outputs": [
    {
     "data": {
      "text/plain": [
       "<AxesSubplot:ylabel='Frequency'>"
      ]
     },
     "execution_count": 24,
     "metadata": {},
     "output_type": "execute_result"
    },
    {
     "data": {
      "image/png": "[encoded data removed]",
      "text/plain": [
       "<Figure size 432x288 with 1 Axes>"
      ]
     },
     "metadata": {
      "needs_background": "light"
     },
     "output_type": "display_data"
    }
   ],
   "source": [
    "excel_data['warn'].plot.hist()"
   ]
  },
  {
   "cell_type": "code",
   "execution_count": 25,
   "metadata": {},
   "outputs": [
    {
     "data": {
      "text/plain": [
       "<AxesSubplot:ylabel='Frequency'>"
      ]
     },
     "execution_count": 25,
     "metadata": {},
     "output_type": "execute_result"
    },
    {
     "data": {
      "image/png": "[encoded data removed]",
      "text/plain": [
       "<Figure size 432x288 with 1 Axes>"
      ]
     },
     "metadata": {
      "needs_background": "light"
     },
     "output_type": "display_data"
    }
   ],
   "source": [
    "excel_data['exception'].plot.hist()"
   ]
  },
  {
   "cell_type": "markdown",
   "metadata": {},
   "source": [
    "#  Data Wrangling\n"
   ]
  },
  {
   "cell_type": "markdown",
   "metadata": {},
   "source": [
    "## Data Wrangling is to remove null or empty data, cleaning data set"
   ]
  },
  {
   "cell_type": "code",
   "execution_count": 26,
   "metadata": {},
   "outputs": [
    {
     "name": "stdout",
     "output_type": "stream",
     "text": [
      "<class 'pandas.core.frame.DataFrame'>\n",
      "RangeIndex: 32000 entries, 0 to 31999\n",
      "Data columns (total 8 columns):\n",
      " #   Column     Non-Null Count  Dtype \n",
      "---  ------     --------------  ----- \n",
      " 0   timestamp  32000 non-null  object\n",
      " 1   info       32000 non-null  int64 \n",
      " 2   error      32000 non-null  int64 \n",
      " 3   debug      32000 non-null  int64 \n",
      " 4   warn       32000 non-null  int64 \n",
      " 5   exception  32000 non-null  int64 \n",
      " 6   filename   32000 non-null  object\n",
      " 7   line       32000 non-null  object\n",
      "dtypes: int64(5), object(3)\n",
      "memory usage: 2.0+ MB\n",
      "None\n"
     ]
    }
   ],
   "source": [
    "print((excel_data.info()))\n"
   ]
  },
  {
   "cell_type": "code",
   "execution_count": 27,
   "metadata": {},
   "outputs": [
    {
     "data": {
      "text/html": [
       "<div>\n",
       "<style scoped>\n",
       "    .dataframe tbody tr th:only-of-type {\n",
       "        vertical-align: middle;\n",
       "    }\n",
       "\n",
       "    .dataframe tbody tr th {\n",
       "        vertical-align: top;\n",
       "    }\n",
       "\n",
       "    .dataframe thead th {\n",
       "        text-align: right;\n",
       "    }\n",
       "</style>\n",
       "<table border=\"1\" class=\"dataframe\">\n",
       "  <thead>\n",
       "    <tr style=\"text-align: right;\">\n",
       "      <th></th>\n",
       "      <th>timestamp</th>\n",
       "      <th>info</th>\n",
       "      <th>error</th>\n",
       "      <th>debug</th>\n",
       "      <th>warn</th>\n",
       "      <th>exception</th>\n",
       "      <th>filename</th>\n",
       "      <th>line</th>\n",
       "    </tr>\n",
       "  </thead>\n",
       "  <tbody>\n",
       "    <tr>\n",
       "      <th>0</th>\n",
       "      <td>False</td>\n",
       "      <td>False</td>\n",
       "      <td>False</td>\n",
       "      <td>False</td>\n",
       "      <td>False</td>\n",
       "      <td>False</td>\n",
       "      <td>False</td>\n",
       "      <td>False</td>\n",
       "    </tr>\n",
       "    <tr>\n",
       "      <th>1</th>\n",
       "      <td>False</td>\n",
       "      <td>False</td>\n",
       "      <td>False</td>\n",
       "      <td>False</td>\n",
       "      <td>False</td>\n",
       "      <td>False</td>\n",
       "      <td>False</td>\n",
       "      <td>False</td>\n",
       "    </tr>\n",
       "    <tr>\n",
       "      <th>2</th>\n",
       "      <td>False</td>\n",
       "      <td>False</td>\n",
       "      <td>False</td>\n",
       "      <td>False</td>\n",
       "      <td>False</td>\n",
       "      <td>False</td>\n",
       "      <td>False</td>\n",
       "      <td>False</td>\n",
       "    </tr>\n",
       "    <tr>\n",
       "      <th>3</th>\n",
       "      <td>False</td>\n",
       "      <td>False</td>\n",
       "      <td>False</td>\n",
       "      <td>False</td>\n",
       "      <td>False</td>\n",
       "      <td>False</td>\n",
       "      <td>False</td>\n",
       "      <td>False</td>\n",
       "    </tr>\n",
       "    <tr>\n",
       "      <th>4</th>\n",
       "      <td>False</td>\n",
       "      <td>False</td>\n",
       "      <td>False</td>\n",
       "      <td>False</td>\n",
       "      <td>False</td>\n",
       "      <td>False</td>\n",
       "      <td>False</td>\n",
       "      <td>False</td>\n",
       "    </tr>\n",
       "    <tr>\n",
       "      <th>...</th>\n",
       "      <td>...</td>\n",
       "      <td>...</td>\n",
       "      <td>...</td>\n",
       "      <td>...</td>\n",
       "      <td>...</td>\n",
       "      <td>...</td>\n",
       "      <td>...</td>\n",
       "      <td>...</td>\n",
       "    </tr>\n",
       "    <tr>\n",
       "      <th>31995</th>\n",
       "      <td>False</td>\n",
       "      <td>False</td>\n",
       "      <td>False</td>\n",
       "      <td>False</td>\n",
       "      <td>False</td>\n",
       "      <td>False</td>\n",
       "      <td>False</td>\n",
       "      <td>False</td>\n",
       "    </tr>\n",
       "    <tr>\n",
       "      <th>31996</th>\n",
       "      <td>False</td>\n",
       "      <td>False</td>\n",
       "      <td>False</td>\n",
       "      <td>False</td>\n",
       "      <td>False</td>\n",
       "      <td>False</td>\n",
       "      <td>False</td>\n",
       "      <td>False</td>\n",
       "    </tr>\n",
       "    <tr>\n",
       "      <th>31997</th>\n",
       "      <td>False</td>\n",
       "      <td>False</td>\n",
       "      <td>False</td>\n",
       "      <td>False</td>\n",
       "      <td>False</td>\n",
       "      <td>False</td>\n",
       "      <td>False</td>\n",
       "      <td>False</td>\n",
       "    </tr>\n",
       "    <tr>\n",
       "      <th>31998</th>\n",
       "      <td>False</td>\n",
       "      <td>False</td>\n",
       "      <td>False</td>\n",
       "      <td>False</td>\n",
       "      <td>False</td>\n",
       "      <td>False</td>\n",
       "      <td>False</td>\n",
       "      <td>False</td>\n",
       "    </tr>\n",
       "    <tr>\n",
       "      <th>31999</th>\n",
       "      <td>False</td>\n",
       "      <td>False</td>\n",
       "      <td>False</td>\n",
       "      <td>False</td>\n",
       "      <td>False</td>\n",
       "      <td>False</td>\n",
       "      <td>False</td>\n",
       "      <td>False</td>\n",
       "    </tr>\n",
       "  </tbody>\n",
       "</table>\n",
       "<p>32000 rows × 8 columns</p>\n",
       "</div>"
      ],
      "text/plain": [
       "       timestamp   info  error  debug   warn  exception  filename   line\n",
       "0          False  False  False  False  False      False     False  False\n",
       "1          False  False  False  False  False      False     False  False\n",
       "2          False  False  False  False  False      False     False  False\n",
       "3          False  False  False  False  False      False     False  False\n",
       "4          False  False  False  False  False      False     False  False\n",
       "...          ...    ...    ...    ...    ...        ...       ...    ...\n",
       "31995      False  False  False  False  False      False     False  False\n",
       "31996      False  False  False  False  False      False     False  False\n",
       "31997      False  False  False  False  False      False     False  False\n",
       "31998      False  False  False  False  False      False     False  False\n",
       "31999      False  False  False  False  False      False     False  False\n",
       "\n",
       "[32000 rows x 8 columns]"
      ]
     },
     "execution_count": 27,
     "metadata": {},
     "output_type": "execute_result"
    }
   ],
   "source": [
    "excel_data.isnull()\n"
   ]
  },
  {
   "cell_type": "code",
   "execution_count": 28,
   "metadata": {},
   "outputs": [
    {
     "data": {
      "text/plain": [
       "timestamp    0\n",
       "info         0\n",
       "error        0\n",
       "debug        0\n",
       "warn         0\n",
       "exception    0\n",
       "filename     0\n",
       "line         0\n",
       "dtype: int64"
      ]
     },
     "execution_count": 28,
     "metadata": {},
     "output_type": "execute_result"
    }
   ],
   "source": [
    "excel_data.isnull().sum()\n"
   ]
  },
  {
   "cell_type": "code",
   "execution_count": 29,
   "metadata": {},
   "outputs": [],
   "source": [
    "#sns.heatmap(excel_data.isnull(), yticklabels==False)\n"
   ]
  },
  {
   "cell_type": "code",
   "execution_count": 30,
   "metadata": {},
   "outputs": [
    {
     "data": {
      "text/plain": [
       "<AxesSubplot:>"
      ]
     },
     "execution_count": 30,
     "metadata": {},
     "output_type": "execute_result"
    },
    {
     "data": {
      "image/png": "[encoded data removed]",
      "text/plain": [
       "<Figure size 432x288 with 2 Axes>"
      ]
     },
     "metadata": {
      "needs_background": "light"
     },
     "output_type": "display_data"
    }
   ],
   "source": [
    "sns.heatmap(excel_data.isnull(), cmap=\"viridis\")\n"
   ]
  },
  {
   "cell_type": "code",
   "execution_count": 33,
   "metadata": {},
   "outputs": [
    {
     "data": {
      "text/plain": [
       "<AxesSubplot:xlabel='error', ylabel='exception'>"
      ]
     },
     "execution_count": 33,
     "metadata": {},
     "output_type": "execute_result"
    },
    {
     "data": {
      "image/png": "[encoded data removed]",
      "text/plain": [
       "<Figure size 432x288 with 1 Axes>"
      ]
     },
     "metadata": {
      "needs_background": "light"
     },
     "output_type": "display_data"
    }
   ],
   "source": [
    "sns.boxplot(x=\"error\", y=\"exception\", data=excel_data)\n"
   ]
  },
  {
   "cell_type": "code",
   "execution_count": 41,
   "metadata": {},
   "outputs": [
    {
     "data": {
      "text/plain": [
       "line         0\n",
       "info         0\n",
       "error        0\n",
       "debug        0\n",
       "warn         0\n",
       "exception    0\n",
       "filename     0\n",
       "dtype: int64"
      ]
     },
     "execution_count": 41,
     "metadata": {},
     "output_type": "execute_result"
    }
   ],
   "source": [
    "# either drop that row or fill some value where value is null\n",
    "excel_data.head(5)\n",
    "excel_data.isnull().sum()\n"
   ]
  },
  {
   "cell_type": "code",
   "execution_count": 42,
   "metadata": {},
   "outputs": [
    {
     "data": {
      "text/plain": [
       "<AxesSubplot:>"
      ]
     },
     "execution_count": 42,
     "metadata": {},
     "output_type": "execute_result"
    },
    {
     "data": {
      "image/png": "[encoded data removed]",
      "text/plain": [
       "<Figure size 432x288 with 1 Axes>"
      ]
     },
     "metadata": {
      "needs_background": "light"
     },
     "output_type": "display_data"
    }
   ],
   "source": [
    "sns.heatmap(excel_data.isnull(), yticklabels=False, cbar=False)\n"
   ]
  },
  {
   "cell_type": "code",
   "execution_count": 43,
   "metadata": {},
   "outputs": [
    {
     "data": {
      "text/plain": [
       "<AxesSubplot:>"
      ]
     },
     "execution_count": 43,
     "metadata": {},
     "output_type": "execute_result"
    },
    {
     "data": {
      "image/png": "[encoded data removed]",
      "text/plain": [
       "<Figure size 432x288 with 1 Axes>"
      ]
     },
     "metadata": {
      "needs_background": "light"
     },
     "output_type": "display_data"
    }
   ],
   "source": [
    "excel_data.drop(\"line\", axis=1, inplace=True)\n",
    "sns.heatmap(excel_data.isnull(), yticklabels=False, cbar=False)\n"
   ]
  },
  {
   "cell_type": "code",
   "execution_count": 44,
   "metadata": {},
   "outputs": [
    {
     "data": {
      "text/plain": [
       "info         0\n",
       "error        0\n",
       "debug        0\n",
       "warn         0\n",
       "exception    0\n",
       "filename     0\n",
       "dtype: int64"
      ]
     },
     "execution_count": 44,
     "metadata": {},
     "output_type": "execute_result"
    }
   ],
   "source": [
    "excel_data.isnull().sum()\n"
   ]
  },
  {
   "cell_type": "markdown",
   "metadata": {},
   "source": [
    "### hold column values in variable\n"
   ]
  },
  {
   "cell_type": "code",
   "execution_count": 47,
   "metadata": {},
   "outputs": [],
   "source": [
    "info=pd.get_dummies(excel_data['info'])"
   ]
  },
  {
   "cell_type": "code",
   "execution_count": 48,
   "metadata": {},
   "outputs": [
    {
     "data": {
      "text/html": [
       "<div>\n",
       "<style scoped>\n",
       "    .dataframe tbody tr th:only-of-type {\n",
       "        vertical-align: middle;\n",
       "    }\n",
       "\n",
       "    .dataframe tbody tr th {\n",
       "        vertical-align: top;\n",
       "    }\n",
       "\n",
       "    .dataframe thead th {\n",
       "        text-align: right;\n",
       "    }\n",
       "</style>\n",
       "<table border=\"1\" class=\"dataframe\">\n",
       "  <thead>\n",
       "    <tr style=\"text-align: right;\">\n",
       "      <th></th>\n",
       "      <th>info</th>\n",
       "      <th>error</th>\n",
       "      <th>debug</th>\n",
       "      <th>warn</th>\n",
       "      <th>exception</th>\n",
       "      <th>filename</th>\n",
       "      <th>0</th>\n",
       "      <th>1</th>\n",
       "      <th>0</th>\n",
       "      <th>1</th>\n",
       "    </tr>\n",
       "  </thead>\n",
       "  <tbody>\n",
       "    <tr>\n",
       "      <th>0</th>\n",
       "      <td>0</td>\n",
       "      <td>0</td>\n",
       "      <td>0</td>\n",
       "      <td>0</td>\n",
       "      <td>0</td>\n",
       "      <td>HealthApp.log</td>\n",
       "      <td>1</td>\n",
       "      <td>0</td>\n",
       "      <td>1</td>\n",
       "      <td>0</td>\n",
       "    </tr>\n",
       "    <tr>\n",
       "      <th>1</th>\n",
       "      <td>0</td>\n",
       "      <td>0</td>\n",
       "      <td>0</td>\n",
       "      <td>0</td>\n",
       "      <td>0</td>\n",
       "      <td>HealthApp.log</td>\n",
       "      <td>1</td>\n",
       "      <td>0</td>\n",
       "      <td>1</td>\n",
       "      <td>0</td>\n",
       "    </tr>\n",
       "    <tr>\n",
       "      <th>2</th>\n",
       "      <td>0</td>\n",
       "      <td>0</td>\n",
       "      <td>0</td>\n",
       "      <td>0</td>\n",
       "      <td>0</td>\n",
       "      <td>HealthApp.log</td>\n",
       "      <td>1</td>\n",
       "      <td>0</td>\n",
       "      <td>1</td>\n",
       "      <td>0</td>\n",
       "    </tr>\n",
       "    <tr>\n",
       "      <th>3</th>\n",
       "      <td>0</td>\n",
       "      <td>0</td>\n",
       "      <td>0</td>\n",
       "      <td>0</td>\n",
       "      <td>0</td>\n",
       "      <td>HealthApp.log</td>\n",
       "      <td>1</td>\n",
       "      <td>0</td>\n",
       "      <td>1</td>\n",
       "      <td>0</td>\n",
       "    </tr>\n",
       "    <tr>\n",
       "      <th>4</th>\n",
       "      <td>0</td>\n",
       "      <td>0</td>\n",
       "      <td>0</td>\n",
       "      <td>0</td>\n",
       "      <td>0</td>\n",
       "      <td>HealthApp.log</td>\n",
       "      <td>1</td>\n",
       "      <td>0</td>\n",
       "      <td>1</td>\n",
       "      <td>0</td>\n",
       "    </tr>\n",
       "  </tbody>\n",
       "</table>\n",
       "</div>"
      ],
      "text/plain": [
       "   info  error  debug  warn  exception       filename  0  1  0  1\n",
       "0     0      0      0     0          0  HealthApp.log  1  0  1  0\n",
       "1     0      0      0     0          0  HealthApp.log  1  0  1  0\n",
       "2     0      0      0     0          0  HealthApp.log  1  0  1  0\n",
       "3     0      0      0     0          0  HealthApp.log  1  0  1  0\n",
       "4     0      0      0     0          0  HealthApp.log  1  0  1  0"
      ]
     },
     "execution_count": 48,
     "metadata": {},
     "output_type": "execute_result"
    }
   ],
   "source": [
    "excel_data = pd.concat([excel_data, info], axis=1)\n",
    "excel_data.head(5)\n"
   ]
  },
  {
   "cell_type": "code",
   "execution_count": 49,
   "metadata": {},
   "outputs": [
    {
     "data": {
      "text/html": [
       "<div>\n",
       "<style scoped>\n",
       "    .dataframe tbody tr th:only-of-type {\n",
       "        vertical-align: middle;\n",
       "    }\n",
       "\n",
       "    .dataframe tbody tr th {\n",
       "        vertical-align: top;\n",
       "    }\n",
       "\n",
       "    .dataframe thead th {\n",
       "        text-align: right;\n",
       "    }\n",
       "</style>\n",
       "<table border=\"1\" class=\"dataframe\">\n",
       "  <thead>\n",
       "    <tr style=\"text-align: right;\">\n",
       "      <th></th>\n",
       "      <th>error</th>\n",
       "      <th>debug</th>\n",
       "      <th>warn</th>\n",
       "      <th>exception</th>\n",
       "      <th>filename</th>\n",
       "      <th>0</th>\n",
       "      <th>1</th>\n",
       "      <th>0</th>\n",
       "      <th>1</th>\n",
       "    </tr>\n",
       "  </thead>\n",
       "  <tbody>\n",
       "    <tr>\n",
       "      <th>0</th>\n",
       "      <td>0</td>\n",
       "      <td>0</td>\n",
       "      <td>0</td>\n",
       "      <td>0</td>\n",
       "      <td>HealthApp.log</td>\n",
       "      <td>1</td>\n",
       "      <td>0</td>\n",
       "      <td>1</td>\n",
       "      <td>0</td>\n",
       "    </tr>\n",
       "    <tr>\n",
       "      <th>1</th>\n",
       "      <td>0</td>\n",
       "      <td>0</td>\n",
       "      <td>0</td>\n",
       "      <td>0</td>\n",
       "      <td>HealthApp.log</td>\n",
       "      <td>1</td>\n",
       "      <td>0</td>\n",
       "      <td>1</td>\n",
       "      <td>0</td>\n",
       "    </tr>\n",
       "    <tr>\n",
       "      <th>2</th>\n",
       "      <td>0</td>\n",
       "      <td>0</td>\n",
       "      <td>0</td>\n",
       "      <td>0</td>\n",
       "      <td>HealthApp.log</td>\n",
       "      <td>1</td>\n",
       "      <td>0</td>\n",
       "      <td>1</td>\n",
       "      <td>0</td>\n",
       "    </tr>\n",
       "    <tr>\n",
       "      <th>3</th>\n",
       "      <td>0</td>\n",
       "      <td>0</td>\n",
       "      <td>0</td>\n",
       "      <td>0</td>\n",
       "      <td>HealthApp.log</td>\n",
       "      <td>1</td>\n",
       "      <td>0</td>\n",
       "      <td>1</td>\n",
       "      <td>0</td>\n",
       "    </tr>\n",
       "    <tr>\n",
       "      <th>4</th>\n",
       "      <td>0</td>\n",
       "      <td>0</td>\n",
       "      <td>0</td>\n",
       "      <td>0</td>\n",
       "      <td>HealthApp.log</td>\n",
       "      <td>1</td>\n",
       "      <td>0</td>\n",
       "      <td>1</td>\n",
       "      <td>0</td>\n",
       "    </tr>\n",
       "  </tbody>\n",
       "</table>\n",
       "</div>"
      ],
      "text/plain": [
       "   error  debug  warn  exception       filename  0  1  0  1\n",
       "0      0      0     0          0  HealthApp.log  1  0  1  0\n",
       "1      0      0     0          0  HealthApp.log  1  0  1  0\n",
       "2      0      0     0          0  HealthApp.log  1  0  1  0\n",
       "3      0      0     0          0  HealthApp.log  1  0  1  0\n",
       "4      0      0     0          0  HealthApp.log  1  0  1  0"
      ]
     },
     "execution_count": 49,
     "metadata": {},
     "output_type": "execute_result"
    }
   ],
   "source": [
    "excel_data.drop(['info'], axis=True, inplace=True)\n",
    "excel_data.head(5)"
   ]
  },
  {
   "cell_type": "code",
   "execution_count": 56,
   "metadata": {},
   "outputs": [
    {
     "data": {
      "text/html": [
       "<div>\n",
       "<style scoped>\n",
       "    .dataframe tbody tr th:only-of-type {\n",
       "        vertical-align: middle;\n",
       "    }\n",
       "\n",
       "    .dataframe tbody tr th {\n",
       "        vertical-align: top;\n",
       "    }\n",
       "\n",
       "    .dataframe thead th {\n",
       "        text-align: right;\n",
       "    }\n",
       "</style>\n",
       "<table border=\"1\" class=\"dataframe\">\n",
       "  <thead>\n",
       "    <tr style=\"text-align: right;\">\n",
       "      <th></th>\n",
       "      <th>error</th>\n",
       "      <th>debug</th>\n",
       "      <th>warn</th>\n",
       "      <th>exception</th>\n",
       "      <th>0</th>\n",
       "      <th>1</th>\n",
       "      <th>0</th>\n",
       "      <th>1</th>\n",
       "    </tr>\n",
       "  </thead>\n",
       "  <tbody>\n",
       "    <tr>\n",
       "      <th>0</th>\n",
       "      <td>0</td>\n",
       "      <td>0</td>\n",
       "      <td>0</td>\n",
       "      <td>0</td>\n",
       "      <td>1</td>\n",
       "      <td>0</td>\n",
       "      <td>1</td>\n",
       "      <td>0</td>\n",
       "    </tr>\n",
       "    <tr>\n",
       "      <th>1</th>\n",
       "      <td>0</td>\n",
       "      <td>0</td>\n",
       "      <td>0</td>\n",
       "      <td>0</td>\n",
       "      <td>1</td>\n",
       "      <td>0</td>\n",
       "      <td>1</td>\n",
       "      <td>0</td>\n",
       "    </tr>\n",
       "    <tr>\n",
       "      <th>2</th>\n",
       "      <td>0</td>\n",
       "      <td>0</td>\n",
       "      <td>0</td>\n",
       "      <td>0</td>\n",
       "      <td>1</td>\n",
       "      <td>0</td>\n",
       "      <td>1</td>\n",
       "      <td>0</td>\n",
       "    </tr>\n",
       "    <tr>\n",
       "      <th>3</th>\n",
       "      <td>0</td>\n",
       "      <td>0</td>\n",
       "      <td>0</td>\n",
       "      <td>0</td>\n",
       "      <td>1</td>\n",
       "      <td>0</td>\n",
       "      <td>1</td>\n",
       "      <td>0</td>\n",
       "    </tr>\n",
       "    <tr>\n",
       "      <th>4</th>\n",
       "      <td>0</td>\n",
       "      <td>0</td>\n",
       "      <td>0</td>\n",
       "      <td>0</td>\n",
       "      <td>1</td>\n",
       "      <td>0</td>\n",
       "      <td>1</td>\n",
       "      <td>0</td>\n",
       "    </tr>\n",
       "  </tbody>\n",
       "</table>\n",
       "</div>"
      ],
      "text/plain": [
       "   error  debug  warn  exception  0  1  0  1\n",
       "0      0      0     0          0  1  0  1  0\n",
       "1      0      0     0          0  1  0  1  0\n",
       "2      0      0     0          0  1  0  1  0\n",
       "3      0      0     0          0  1  0  1  0\n",
       "4      0      0     0          0  1  0  1  0"
      ]
     },
     "execution_count": 56,
     "metadata": {},
     "output_type": "execute_result"
    }
   ],
   "source": [
    "excel_data.drop(\"filename\", axis=1, inplace=True)\n",
    "excel_data.head(5)"
   ]
  },
  {
   "cell_type": "markdown",
   "metadata": {},
   "source": [
    "#  Train and Test"
   ]
  },
  {
   "cell_type": "code",
   "execution_count": 57,
   "metadata": {},
   "outputs": [],
   "source": [
    "X = excel_data.drop(\"error\", axis=1)\n",
    "y = excel_data[\"error\"]"
   ]
  },
  {
   "cell_type": "code",
   "execution_count": 58,
   "metadata": {},
   "outputs": [],
   "source": [
    "#from sklearn.cross_validation import train_test_split\n",
    "from sklearn.model_selection import train_test_split"
   ]
  },
  {
   "cell_type": "code",
   "execution_count": 59,
   "metadata": {},
   "outputs": [],
   "source": [
    "X_train, X_test, y_train, y_test = train_test_split(X, y, test_size=0.33, random_state=1)"
   ]
  },
  {
   "cell_type": "code",
   "execution_count": 60,
   "metadata": {},
   "outputs": [],
   "source": [
    "from sklearn.linear_model import LogisticRegression\n",
    "logmodel = LogisticRegression()"
   ]
  },
  {
   "cell_type": "code",
   "execution_count": 61,
   "metadata": {},
   "outputs": [
    {
     "data": {
      "text/plain": [
       "LogisticRegression()"
      ]
     },
     "execution_count": 61,
     "metadata": {},
     "output_type": "execute_result"
    }
   ],
   "source": [
    "logmodel.fit(X_train, y_train)\n"
   ]
  },
  {
   "cell_type": "code",
   "execution_count": 62,
   "metadata": {},
   "outputs": [],
   "source": [
    "predictions = logmodel.predict(X_test)"
   ]
  },
  {
   "cell_type": "code",
   "execution_count": 63,
   "metadata": {},
   "outputs": [
    {
     "name": "stderr",
     "output_type": "stream",
     "text": [
      "/Users/raviranjan/Documents/workspace/lanier-goat/venv3/lib/python3.8/site-packages/sklearn/metrics/_classification.py:1248: UndefinedMetricWarning: Precision and F-score are ill-defined and being set to 0.0 in labels with no predicted samples. Use `zero_division` parameter to control this behavior.\n",
      "  _warn_prf(average, modifier, msg_start, len(result))\n",
      "/Users/raviranjan/Documents/workspace/lanier-goat/venv3/lib/python3.8/site-packages/sklearn/metrics/_classification.py:1248: UndefinedMetricWarning: Precision and F-score are ill-defined and being set to 0.0 in labels with no predicted samples. Use `zero_division` parameter to control this behavior.\n",
      "  _warn_prf(average, modifier, msg_start, len(result))\n",
      "/Users/raviranjan/Documents/workspace/lanier-goat/venv3/lib/python3.8/site-packages/sklearn/metrics/_classification.py:1248: UndefinedMetricWarning: Precision and F-score are ill-defined and being set to 0.0 in labels with no predicted samples. Use `zero_division` parameter to control this behavior.\n",
      "  _warn_prf(average, modifier, msg_start, len(result))\n"
     ]
    },
    {
     "data": {
      "text/plain": [
       "'              precision    recall  f1-score   support\\n\\n           0       0.93      1.00      0.97      9870\\n           1       0.00      0.00      0.00       690\\n\\n    accuracy                           0.93     10560\\n   macro avg       0.47      0.50      0.48     10560\\nweighted avg       0.87      0.93      0.90     10560\\n'"
      ]
     },
     "execution_count": 63,
     "metadata": {},
     "output_type": "execute_result"
    }
   ],
   "source": [
    "from sklearn.metrics import classification_report\n",
    "classification_report(y_test, predictions)\n"
   ]
  },
  {
   "cell_type": "code",
   "execution_count": 64,
   "metadata": {},
   "outputs": [
    {
     "data": {
      "text/plain": [
       "array([[9870,    0],\n",
       "       [ 690,    0]])"
      ]
     },
     "execution_count": 64,
     "metadata": {},
     "output_type": "execute_result"
    }
   ],
   "source": [
    "from sklearn.metrics import confusion_matrix\n",
    "confusion_matrix(y_test, predictions)\n"
   ]
  },
  {
   "cell_type": "code",
   "execution_count": 65,
   "metadata": {
    "scrolled": true
   },
   "outputs": [
    {
     "data": {
      "text/plain": [
       "0.9346590909090909"
      ]
     },
     "execution_count": 65,
     "metadata": {},
     "output_type": "execute_result"
    }
   ],
   "source": [
    "from sklearn.metrics import accuracy_score\n",
    "accuracy_score(y_test, predictions)\n"
   ]
  },
  {
   "cell_type": "markdown",
   "metadata": {},
   "source": [
    "#  Collecting Data\n"
   ]
  },
  {
   "cell_type": "code",
   "execution_count": null,
   "metadata": {},
   "outputs": [],
   "source": []
  },
  {
   "cell_type": "code",
   "execution_count": null,
   "metadata": {},
   "outputs": [],
   "source": []
  },
  {
   "cell_type": "code",
   "execution_count": null,
   "metadata": {},
   "outputs": [],
   "source": []
  },
  {
   "cell_type": "markdown",
   "metadata": {},
   "source": [
    "# Accuracy Check\n"
   ]
  },
  {
   "cell_type": "code",
   "execution_count": null,
   "metadata": {},
   "outputs": [],
   "source": []
  }
 ],
 "metadata": {
  "kernelspec": {
   "display_name": "Python 3",
   "language": "python",
   "name": "python3"
  },
  "language_info": {
   "codemirror_mode": {
    "name": "ipython",
    "version": 3
   },
   "file_extension": ".py",
   "mimetype": "text/x-python",
   "name": "python",
   "nbconvert_exporter": "python",
   "pygments_lexer": "ipython3",
   "version": "3.8.2"
  }
 },
 "nbformat": 4,
 "nbformat_minor": 2
}
